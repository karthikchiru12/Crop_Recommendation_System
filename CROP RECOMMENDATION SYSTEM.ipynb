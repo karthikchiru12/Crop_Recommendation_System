{
 "cells": [
  {
   "cell_type": "markdown",
   "metadata": {},
   "source": [
    "# Crop Recommendation System"
   ]
  },
  {
   "cell_type": "markdown",
   "metadata": {},
   "source": [
    "## 1 . Importing the necessary libraries"
   ]
  },
  {
   "cell_type": "code",
   "execution_count": 140,
   "metadata": {
    "ExecuteTime": {
     "end_time": "2020-05-08T17:08:57.381719Z",
     "start_time": "2020-05-08T17:08:57.376494Z"
    }
   },
   "outputs": [],
   "source": [
    "import pandas as pd\n",
    "import numpy as np\n",
    "import matplotlib.pyplot as plt\n",
    "import seaborn as sns\n",
    "from sklearn.ensemble import RandomForestRegressor\n",
    "from sklearn.model_selection import GridSearchCV\n",
    "from sklearn.model_selection import train_test_split\n",
    "from sklearn.preprocessing import LabelEncoder\n",
    "from sklearn.feature_extraction.text import CountVectorizer\n",
    "from scipy.sparse import hstack"
   ]
  },
  {
   "cell_type": "markdown",
   "metadata": {},
   "source": [
    "## 2. Importing the data files"
   ]
  },
  {
   "cell_type": "markdown",
   "metadata": {},
   "source": [
    "crop_db"
   ]
  },
  {
   "cell_type": "code",
   "execution_count": 8,
   "metadata": {
    "ExecuteTime": {
     "end_time": "2020-05-08T15:47:00.604569Z",
     "start_time": "2020-05-08T15:47:00.580277Z"
    }
   },
   "outputs": [
    {
     "data": {
      "text/html": [
       "<div>\n",
       "<style scoped>\n",
       "    .dataframe tbody tr th:only-of-type {\n",
       "        vertical-align: middle;\n",
       "    }\n",
       "\n",
       "    .dataframe tbody tr th {\n",
       "        vertical-align: top;\n",
       "    }\n",
       "\n",
       "    .dataframe thead th {\n",
       "        text-align: right;\n",
       "    }\n",
       "</style>\n",
       "<table border=\"1\" class=\"dataframe\">\n",
       "  <thead>\n",
       "    <tr style=\"text-align: right;\">\n",
       "      <th></th>\n",
       "      <th>crop_name</th>\n",
       "      <th>no_of_months</th>\n",
       "      <th>min_temp</th>\n",
       "      <th>max_temp</th>\n",
       "      <th>min_ph</th>\n",
       "      <th>max_ph</th>\n",
       "      <th>min_rainfall</th>\n",
       "      <th>max_rainfall</th>\n",
       "      <th>n</th>\n",
       "      <th>p</th>\n",
       "      <th>k</th>\n",
       "    </tr>\n",
       "  </thead>\n",
       "  <tbody>\n",
       "    <tr>\n",
       "      <th>0</th>\n",
       "      <td>Bajra</td>\n",
       "      <td>3</td>\n",
       "      <td>18</td>\n",
       "      <td>30</td>\n",
       "      <td>3.0</td>\n",
       "      <td>8.0</td>\n",
       "      <td>350</td>\n",
       "      <td>750</td>\n",
       "      <td>L</td>\n",
       "      <td>L</td>\n",
       "      <td>M</td>\n",
       "    </tr>\n",
       "    <tr>\n",
       "      <th>1</th>\n",
       "      <td>Banana</td>\n",
       "      <td>4</td>\n",
       "      <td>15</td>\n",
       "      <td>35</td>\n",
       "      <td>6.5</td>\n",
       "      <td>8.5</td>\n",
       "      <td>450</td>\n",
       "      <td>750</td>\n",
       "      <td>M</td>\n",
       "      <td>VL</td>\n",
       "      <td>VL</td>\n",
       "    </tr>\n",
       "    <tr>\n",
       "      <th>2</th>\n",
       "      <td>Barley</td>\n",
       "      <td>4</td>\n",
       "      <td>12</td>\n",
       "      <td>32</td>\n",
       "      <td>3.0</td>\n",
       "      <td>8.0</td>\n",
       "      <td>800</td>\n",
       "      <td>1100</td>\n",
       "      <td>VL</td>\n",
       "      <td>VL</td>\n",
       "      <td>M</td>\n",
       "    </tr>\n",
       "    <tr>\n",
       "      <th>3</th>\n",
       "      <td>Bean</td>\n",
       "      <td>2</td>\n",
       "      <td>14</td>\n",
       "      <td>32</td>\n",
       "      <td>5.5</td>\n",
       "      <td>6.5</td>\n",
       "      <td>300</td>\n",
       "      <td>500</td>\n",
       "      <td>L</td>\n",
       "      <td>VL</td>\n",
       "      <td>M</td>\n",
       "    </tr>\n",
       "    <tr>\n",
       "      <th>4</th>\n",
       "      <td>Black pepper</td>\n",
       "      <td>6</td>\n",
       "      <td>23</td>\n",
       "      <td>33</td>\n",
       "      <td>5.5</td>\n",
       "      <td>6.5</td>\n",
       "      <td>1200</td>\n",
       "      <td>2500</td>\n",
       "      <td>H</td>\n",
       "      <td>VL</td>\n",
       "      <td>M</td>\n",
       "    </tr>\n",
       "  </tbody>\n",
       "</table>\n",
       "</div>"
      ],
      "text/plain": [
       "      crop_name  no_of_months  min_temp  max_temp  min_ph  max_ph  \\\n",
       "0         Bajra             3        18        30     3.0     8.0   \n",
       "1        Banana             4        15        35     6.5     8.5   \n",
       "2        Barley             4        12        32     3.0     8.0   \n",
       "3          Bean             2        14        32     5.5     6.5   \n",
       "4  Black pepper             6        23        33     5.5     6.5   \n",
       "\n",
       "   min_rainfall  max_rainfall   n   p   k  \n",
       "0           350           750   L   L   M  \n",
       "1           450           750   M  VL  VL  \n",
       "2           800          1100  VL  VL   M  \n",
       "3           300           500   L  VL   M  \n",
       "4          1200          2500   H  VL   M  "
      ]
     },
     "execution_count": 8,
     "metadata": {},
     "output_type": "execute_result"
    }
   ],
   "source": [
    "crop = pd.read_csv('Data/cropDB.csv')\n",
    "crop.head()"
   ]
  },
  {
   "cell_type": "code",
   "execution_count": 9,
   "metadata": {
    "ExecuteTime": {
     "end_time": "2020-05-08T15:47:02.625274Z",
     "start_time": "2020-05-08T15:47:02.582377Z"
    }
   },
   "outputs": [
    {
     "data": {
      "text/html": [
       "<div>\n",
       "<style scoped>\n",
       "    .dataframe tbody tr th:only-of-type {\n",
       "        vertical-align: middle;\n",
       "    }\n",
       "\n",
       "    .dataframe tbody tr th {\n",
       "        vertical-align: top;\n",
       "    }\n",
       "\n",
       "    .dataframe thead th {\n",
       "        text-align: right;\n",
       "    }\n",
       "</style>\n",
       "<table border=\"1\" class=\"dataframe\">\n",
       "  <thead>\n",
       "    <tr style=\"text-align: right;\">\n",
       "      <th></th>\n",
       "      <th>count</th>\n",
       "      <th>mean</th>\n",
       "      <th>std</th>\n",
       "      <th>min</th>\n",
       "      <th>25%</th>\n",
       "      <th>50%</th>\n",
       "      <th>75%</th>\n",
       "      <th>max</th>\n",
       "    </tr>\n",
       "  </thead>\n",
       "  <tbody>\n",
       "    <tr>\n",
       "      <th>no_of_months</th>\n",
       "      <td>56.0</td>\n",
       "      <td>4.303571</td>\n",
       "      <td>2.044235</td>\n",
       "      <td>2.0</td>\n",
       "      <td>3.0</td>\n",
       "      <td>4.0</td>\n",
       "      <td>5.0</td>\n",
       "      <td>12.0</td>\n",
       "    </tr>\n",
       "    <tr>\n",
       "      <th>min_temp</th>\n",
       "      <td>56.0</td>\n",
       "      <td>17.678571</td>\n",
       "      <td>4.411172</td>\n",
       "      <td>7.0</td>\n",
       "      <td>15.0</td>\n",
       "      <td>18.0</td>\n",
       "      <td>20.0</td>\n",
       "      <td>25.0</td>\n",
       "    </tr>\n",
       "    <tr>\n",
       "      <th>max_temp</th>\n",
       "      <td>56.0</td>\n",
       "      <td>32.410714</td>\n",
       "      <td>3.686717</td>\n",
       "      <td>23.0</td>\n",
       "      <td>30.0</td>\n",
       "      <td>32.5</td>\n",
       "      <td>35.0</td>\n",
       "      <td>40.0</td>\n",
       "    </tr>\n",
       "    <tr>\n",
       "      <th>min_ph</th>\n",
       "      <td>56.0</td>\n",
       "      <td>5.435714</td>\n",
       "      <td>0.760963</td>\n",
       "      <td>3.0</td>\n",
       "      <td>5.0</td>\n",
       "      <td>5.5</td>\n",
       "      <td>6.0</td>\n",
       "      <td>7.0</td>\n",
       "    </tr>\n",
       "    <tr>\n",
       "      <th>max_ph</th>\n",
       "      <td>56.0</td>\n",
       "      <td>7.462500</td>\n",
       "      <td>0.735975</td>\n",
       "      <td>6.4</td>\n",
       "      <td>7.0</td>\n",
       "      <td>7.5</td>\n",
       "      <td>8.0</td>\n",
       "      <td>10.0</td>\n",
       "    </tr>\n",
       "    <tr>\n",
       "      <th>min_rainfall</th>\n",
       "      <td>56.0</td>\n",
       "      <td>611.160714</td>\n",
       "      <td>316.763449</td>\n",
       "      <td>100.0</td>\n",
       "      <td>400.0</td>\n",
       "      <td>500.0</td>\n",
       "      <td>712.5</td>\n",
       "      <td>1500.0</td>\n",
       "    </tr>\n",
       "    <tr>\n",
       "      <th>max_rainfall</th>\n",
       "      <td>56.0</td>\n",
       "      <td>1089.285714</td>\n",
       "      <td>632.937903</td>\n",
       "      <td>300.0</td>\n",
       "      <td>737.5</td>\n",
       "      <td>900.0</td>\n",
       "      <td>1125.0</td>\n",
       "      <td>4000.0</td>\n",
       "    </tr>\n",
       "  </tbody>\n",
       "</table>\n",
       "</div>"
      ],
      "text/plain": [
       "              count         mean         std    min    25%    50%     75%  \\\n",
       "no_of_months   56.0     4.303571    2.044235    2.0    3.0    4.0     5.0   \n",
       "min_temp       56.0    17.678571    4.411172    7.0   15.0   18.0    20.0   \n",
       "max_temp       56.0    32.410714    3.686717   23.0   30.0   32.5    35.0   \n",
       "min_ph         56.0     5.435714    0.760963    3.0    5.0    5.5     6.0   \n",
       "max_ph         56.0     7.462500    0.735975    6.4    7.0    7.5     8.0   \n",
       "min_rainfall   56.0   611.160714  316.763449  100.0  400.0  500.0   712.5   \n",
       "max_rainfall   56.0  1089.285714  632.937903  300.0  737.5  900.0  1125.0   \n",
       "\n",
       "                 max  \n",
       "no_of_months    12.0  \n",
       "min_temp        25.0  \n",
       "max_temp        40.0  \n",
       "min_ph           7.0  \n",
       "max_ph          10.0  \n",
       "min_rainfall  1500.0  \n",
       "max_rainfall  4000.0  "
      ]
     },
     "execution_count": 9,
     "metadata": {},
     "output_type": "execute_result"
    }
   ],
   "source": [
    "crop.describe().T"
   ]
  },
  {
   "cell_type": "markdown",
   "metadata": {},
   "source": [
    "rain_fall"
   ]
  },
  {
   "cell_type": "code",
   "execution_count": 11,
   "metadata": {
    "ExecuteTime": {
     "end_time": "2020-05-08T15:47:17.512816Z",
     "start_time": "2020-05-08T15:47:17.490566Z"
    }
   },
   "outputs": [
    {
     "data": {
      "text/html": [
       "<div>\n",
       "<style scoped>\n",
       "    .dataframe tbody tr th:only-of-type {\n",
       "        vertical-align: middle;\n",
       "    }\n",
       "\n",
       "    .dataframe tbody tr th {\n",
       "        vertical-align: top;\n",
       "    }\n",
       "\n",
       "    .dataframe thead th {\n",
       "        text-align: right;\n",
       "    }\n",
       "</style>\n",
       "<table border=\"1\" class=\"dataframe\">\n",
       "  <thead>\n",
       "    <tr style=\"text-align: right;\">\n",
       "      <th></th>\n",
       "      <th>city</th>\n",
       "      <th>state</th>\n",
       "      <th>month</th>\n",
       "      <th>max_temp</th>\n",
       "      <th>min_temp</th>\n",
       "      <th>rainfall</th>\n",
       "    </tr>\n",
       "  </thead>\n",
       "  <tbody>\n",
       "    <tr>\n",
       "      <th>0</th>\n",
       "      <td>Bangalore</td>\n",
       "      <td>Karnataka</td>\n",
       "      <td>January</td>\n",
       "      <td>27.4</td>\n",
       "      <td>15.0</td>\n",
       "      <td>4.9</td>\n",
       "    </tr>\n",
       "    <tr>\n",
       "      <th>1</th>\n",
       "      <td>Bangalore</td>\n",
       "      <td>Karnataka</td>\n",
       "      <td>February</td>\n",
       "      <td>30.1</td>\n",
       "      <td>16.6</td>\n",
       "      <td>7.9</td>\n",
       "    </tr>\n",
       "    <tr>\n",
       "      <th>2</th>\n",
       "      <td>Bangalore</td>\n",
       "      <td>Karnataka</td>\n",
       "      <td>March</td>\n",
       "      <td>32.8</td>\n",
       "      <td>19.0</td>\n",
       "      <td>10.0</td>\n",
       "    </tr>\n",
       "    <tr>\n",
       "      <th>3</th>\n",
       "      <td>Bangalore</td>\n",
       "      <td>Karnataka</td>\n",
       "      <td>April</td>\n",
       "      <td>33.9</td>\n",
       "      <td>21.3</td>\n",
       "      <td>43.9</td>\n",
       "    </tr>\n",
       "    <tr>\n",
       "      <th>4</th>\n",
       "      <td>Bangalore</td>\n",
       "      <td>Karnataka</td>\n",
       "      <td>May</td>\n",
       "      <td>33.1</td>\n",
       "      <td>21.1</td>\n",
       "      <td>111.9</td>\n",
       "    </tr>\n",
       "  </tbody>\n",
       "</table>\n",
       "</div>"
      ],
      "text/plain": [
       "         city      state      month  max_temp  min_temp  rainfall\n",
       "0  Bangalore   Karnataka   January       27.4      15.0       4.9\n",
       "1  Bangalore   Karnataka  February       30.1      16.6       7.9\n",
       "2  Bangalore   Karnataka     March       32.8      19.0      10.0\n",
       "3  Bangalore   Karnataka     April       33.9      21.3      43.9\n",
       "4  Bangalore   Karnataka       May       33.1      21.1     111.9"
      ]
     },
     "execution_count": 11,
     "metadata": {},
     "output_type": "execute_result"
    }
   ],
   "source": [
    "rainfall = pd.read_csv('Data/temprainfall.csv')\n",
    "rainfall.head()"
   ]
  },
  {
   "cell_type": "code",
   "execution_count": 12,
   "metadata": {
    "ExecuteTime": {
     "end_time": "2020-05-08T15:47:26.802813Z",
     "start_time": "2020-05-08T15:47:26.791052Z"
    }
   },
   "outputs": [
    {
     "data": {
      "text/plain": [
       "array(['Andaman and Nicobar', 'Assam', 'Goa', 'Gujarat',\n",
       "       'Himachal Pradesh', 'Jammu and Kashmir', 'Jharkhand', 'Karnataka',\n",
       "       'Kerala', 'Madhya Pradesh', 'Maharashtra', 'Punjab', 'Tamilnadu',\n",
       "       'Uttar Pradesh', 'Uttarkhand', 'West Bengal'], dtype=object)"
      ]
     },
     "execution_count": 12,
     "metadata": {},
     "output_type": "execute_result"
    }
   ],
   "source": [
    "np.unique(rainfall.state.values)"
   ]
  },
  {
   "cell_type": "code",
   "execution_count": 13,
   "metadata": {
    "ExecuteTime": {
     "end_time": "2020-05-08T15:47:28.945301Z",
     "start_time": "2020-05-08T15:47:28.902372Z"
    }
   },
   "outputs": [
    {
     "data": {
      "text/html": [
       "<div>\n",
       "<style scoped>\n",
       "    .dataframe tbody tr th:only-of-type {\n",
       "        vertical-align: middle;\n",
       "    }\n",
       "\n",
       "    .dataframe tbody tr th {\n",
       "        vertical-align: top;\n",
       "    }\n",
       "\n",
       "    .dataframe thead th {\n",
       "        text-align: right;\n",
       "    }\n",
       "</style>\n",
       "<table border=\"1\" class=\"dataframe\">\n",
       "  <thead>\n",
       "    <tr style=\"text-align: right;\">\n",
       "      <th></th>\n",
       "      <th>count</th>\n",
       "      <th>mean</th>\n",
       "      <th>std</th>\n",
       "      <th>min</th>\n",
       "      <th>25%</th>\n",
       "      <th>50%</th>\n",
       "      <th>75%</th>\n",
       "      <th>max</th>\n",
       "    </tr>\n",
       "  </thead>\n",
       "  <tbody>\n",
       "    <tr>\n",
       "      <th>max_temp</th>\n",
       "      <td>240.0</td>\n",
       "      <td>29.518333</td>\n",
       "      <td>6.005395</td>\n",
       "      <td>5.0</td>\n",
       "      <td>27.850</td>\n",
       "      <td>30.20</td>\n",
       "      <td>32.8</td>\n",
       "      <td>41.4</td>\n",
       "    </tr>\n",
       "    <tr>\n",
       "      <th>min_temp</th>\n",
       "      <td>240.0</td>\n",
       "      <td>18.700833</td>\n",
       "      <td>6.466172</td>\n",
       "      <td>-2.3</td>\n",
       "      <td>14.475</td>\n",
       "      <td>20.80</td>\n",
       "      <td>23.6</td>\n",
       "      <td>27.9</td>\n",
       "    </tr>\n",
       "    <tr>\n",
       "      <th>rainfall</th>\n",
       "      <td>240.0</td>\n",
       "      <td>122.838333</td>\n",
       "      <td>178.546349</td>\n",
       "      <td>0.1</td>\n",
       "      <td>15.875</td>\n",
       "      <td>55.05</td>\n",
       "      <td>159.3</td>\n",
       "      <td>1200.4</td>\n",
       "    </tr>\n",
       "  </tbody>\n",
       "</table>\n",
       "</div>"
      ],
      "text/plain": [
       "          count        mean         std  min     25%    50%    75%     max\n",
       "max_temp  240.0   29.518333    6.005395  5.0  27.850  30.20   32.8    41.4\n",
       "min_temp  240.0   18.700833    6.466172 -2.3  14.475  20.80   23.6    27.9\n",
       "rainfall  240.0  122.838333  178.546349  0.1  15.875  55.05  159.3  1200.4"
      ]
     },
     "execution_count": 13,
     "metadata": {},
     "output_type": "execute_result"
    }
   ],
   "source": [
    "rainfall.describe().T"
   ]
  },
  {
   "cell_type": "markdown",
   "metadata": {},
   "source": [
    "nutrients"
   ]
  },
  {
   "cell_type": "code",
   "execution_count": 14,
   "metadata": {
    "ExecuteTime": {
     "end_time": "2020-05-08T15:47:31.550745Z",
     "start_time": "2020-05-08T15:47:31.526978Z"
    }
   },
   "outputs": [
    {
     "data": {
      "text/html": [
       "<div>\n",
       "<style scoped>\n",
       "    .dataframe tbody tr th:only-of-type {\n",
       "        vertical-align: middle;\n",
       "    }\n",
       "\n",
       "    .dataframe tbody tr th {\n",
       "        vertical-align: top;\n",
       "    }\n",
       "\n",
       "    .dataframe thead th {\n",
       "        text-align: right;\n",
       "    }\n",
       "</style>\n",
       "<table border=\"1\" class=\"dataframe\">\n",
       "  <thead>\n",
       "    <tr style=\"text-align: right;\">\n",
       "      <th></th>\n",
       "      <th>state</th>\n",
       "      <th>n</th>\n",
       "      <th>p</th>\n",
       "      <th>k</th>\n",
       "      <th>ph</th>\n",
       "    </tr>\n",
       "  </thead>\n",
       "  <tbody>\n",
       "    <tr>\n",
       "      <th>0</th>\n",
       "      <td>Andaman and Nicobar</td>\n",
       "      <td>L</td>\n",
       "      <td>VL</td>\n",
       "      <td>L</td>\n",
       "      <td>6.5</td>\n",
       "    </tr>\n",
       "    <tr>\n",
       "      <th>1</th>\n",
       "      <td>Andhra Pradesh</td>\n",
       "      <td>H</td>\n",
       "      <td>VH</td>\n",
       "      <td>M</td>\n",
       "      <td>6.3</td>\n",
       "    </tr>\n",
       "    <tr>\n",
       "      <th>2</th>\n",
       "      <td>Arunachal Pradesh</td>\n",
       "      <td>H</td>\n",
       "      <td>M</td>\n",
       "      <td>M</td>\n",
       "      <td>5.6</td>\n",
       "    </tr>\n",
       "    <tr>\n",
       "      <th>3</th>\n",
       "      <td>Assam</td>\n",
       "      <td>M</td>\n",
       "      <td>L</td>\n",
       "      <td>VL</td>\n",
       "      <td>6.5</td>\n",
       "    </tr>\n",
       "    <tr>\n",
       "      <th>4</th>\n",
       "      <td>Bihar</td>\n",
       "      <td>VL</td>\n",
       "      <td>VH</td>\n",
       "      <td>H</td>\n",
       "      <td>6.0</td>\n",
       "    </tr>\n",
       "  </tbody>\n",
       "</table>\n",
       "</div>"
      ],
      "text/plain": [
       "                 state   n   p   k   ph\n",
       "0  Andaman and Nicobar   L  VL   L  6.5\n",
       "1       Andhra Pradesh   H  VH   M  6.3\n",
       "2    Arunachal Pradesh   H   M   M  5.6\n",
       "3                Assam   M   L  VL  6.5\n",
       "4                Bihar  VL  VH   H  6.0"
      ]
     },
     "execution_count": 14,
     "metadata": {},
     "output_type": "execute_result"
    }
   ],
   "source": [
    "nutrients = pd.read_csv('Data/nutrientsarea.csv')\n",
    "nutrients.head()"
   ]
  },
  {
   "cell_type": "code",
   "execution_count": 15,
   "metadata": {
    "ExecuteTime": {
     "end_time": "2020-05-08T15:47:33.871118Z",
     "start_time": "2020-05-08T15:47:33.846263Z"
    }
   },
   "outputs": [
    {
     "data": {
      "text/html": [
       "<div>\n",
       "<style scoped>\n",
       "    .dataframe tbody tr th:only-of-type {\n",
       "        vertical-align: middle;\n",
       "    }\n",
       "\n",
       "    .dataframe tbody tr th {\n",
       "        vertical-align: top;\n",
       "    }\n",
       "\n",
       "    .dataframe thead th {\n",
       "        text-align: right;\n",
       "    }\n",
       "</style>\n",
       "<table border=\"1\" class=\"dataframe\">\n",
       "  <thead>\n",
       "    <tr style=\"text-align: right;\">\n",
       "      <th></th>\n",
       "      <th>count</th>\n",
       "      <th>mean</th>\n",
       "      <th>std</th>\n",
       "      <th>min</th>\n",
       "      <th>25%</th>\n",
       "      <th>50%</th>\n",
       "      <th>75%</th>\n",
       "      <th>max</th>\n",
       "    </tr>\n",
       "  </thead>\n",
       "  <tbody>\n",
       "    <tr>\n",
       "      <th>ph</th>\n",
       "      <td>31.0</td>\n",
       "      <td>6.090323</td>\n",
       "      <td>0.407721</td>\n",
       "      <td>5.0</td>\n",
       "      <td>5.95</td>\n",
       "      <td>6.0</td>\n",
       "      <td>6.3</td>\n",
       "      <td>7.0</td>\n",
       "    </tr>\n",
       "  </tbody>\n",
       "</table>\n",
       "</div>"
      ],
      "text/plain": [
       "    count      mean       std  min   25%  50%  75%  max\n",
       "ph   31.0  6.090323  0.407721  5.0  5.95  6.0  6.3  7.0"
      ]
     },
     "execution_count": 15,
     "metadata": {},
     "output_type": "execute_result"
    }
   ],
   "source": [
    "nutrients.describe().T"
   ]
  },
  {
   "cell_type": "markdown",
   "metadata": {},
   "source": [
    "Production"
   ]
  },
  {
   "cell_type": "code",
   "execution_count": 151,
   "metadata": {
    "ExecuteTime": {
     "end_time": "2020-05-08T17:11:30.259927Z",
     "start_time": "2020-05-08T17:11:30.032481Z"
    }
   },
   "outputs": [
    {
     "data": {
      "text/html": [
       "<div>\n",
       "<style scoped>\n",
       "    .dataframe tbody tr th:only-of-type {\n",
       "        vertical-align: middle;\n",
       "    }\n",
       "\n",
       "    .dataframe tbody tr th {\n",
       "        vertical-align: top;\n",
       "    }\n",
       "\n",
       "    .dataframe thead th {\n",
       "        text-align: right;\n",
       "    }\n",
       "</style>\n",
       "<table border=\"1\" class=\"dataframe\">\n",
       "  <thead>\n",
       "    <tr style=\"text-align: right;\">\n",
       "      <th></th>\n",
       "      <th>Temperature</th>\n",
       "      <th>Ph</th>\n",
       "      <th>Crop</th>\n",
       "      <th>Production</th>\n",
       "    </tr>\n",
       "  </thead>\n",
       "  <tbody>\n",
       "    <tr>\n",
       "      <th>0</th>\n",
       "      <td>20.0</td>\n",
       "      <td>3.0</td>\n",
       "      <td>Bajra</td>\n",
       "      <td>0.00690</td>\n",
       "    </tr>\n",
       "    <tr>\n",
       "      <th>1</th>\n",
       "      <td>20.0</td>\n",
       "      <td>3.2</td>\n",
       "      <td>Bajra</td>\n",
       "      <td>0.00747</td>\n",
       "    </tr>\n",
       "    <tr>\n",
       "      <th>2</th>\n",
       "      <td>20.0</td>\n",
       "      <td>3.2</td>\n",
       "      <td>Bajra</td>\n",
       "      <td>0.00749</td>\n",
       "    </tr>\n",
       "    <tr>\n",
       "      <th>3</th>\n",
       "      <td>20.0</td>\n",
       "      <td>3.2</td>\n",
       "      <td>Bajra</td>\n",
       "      <td>0.00822</td>\n",
       "    </tr>\n",
       "    <tr>\n",
       "      <th>4</th>\n",
       "      <td>20.0</td>\n",
       "      <td>3.2</td>\n",
       "      <td>Bajra</td>\n",
       "      <td>0.00895</td>\n",
       "    </tr>\n",
       "  </tbody>\n",
       "</table>\n",
       "</div>"
      ],
      "text/plain": [
       "    Temperature   Ph   Crop   Production\n",
       "0          20.0  3.0  Bajra      0.00690\n",
       "1          20.0  3.2  Bajra      0.00747\n",
       "2          20.0  3.2  Bajra      0.00749\n",
       "3          20.0  3.2  Bajra      0.00822\n",
       "4          20.0  3.2  Bajra      0.00895"
      ]
     },
     "execution_count": 151,
     "metadata": {},
     "output_type": "execute_result"
    }
   ],
   "source": [
    "production = pd.read_csv('Data/production.csv').drop(['index'],axis=1)\n",
    "production.head()"
   ]
  },
  {
   "cell_type": "code",
   "execution_count": 152,
   "metadata": {
    "ExecuteTime": {
     "end_time": "2020-05-08T17:11:32.543268Z",
     "start_time": "2020-05-08T17:11:32.478075Z"
    }
   },
   "outputs": [
    {
     "data": {
      "text/html": [
       "<div>\n",
       "<style scoped>\n",
       "    .dataframe tbody tr th:only-of-type {\n",
       "        vertical-align: middle;\n",
       "    }\n",
       "\n",
       "    .dataframe tbody tr th {\n",
       "        vertical-align: top;\n",
       "    }\n",
       "\n",
       "    .dataframe thead th {\n",
       "        text-align: right;\n",
       "    }\n",
       "</style>\n",
       "<table border=\"1\" class=\"dataframe\">\n",
       "  <thead>\n",
       "    <tr style=\"text-align: right;\">\n",
       "      <th></th>\n",
       "      <th>count</th>\n",
       "      <th>mean</th>\n",
       "      <th>std</th>\n",
       "      <th>min</th>\n",
       "      <th>25%</th>\n",
       "      <th>50%</th>\n",
       "      <th>75%</th>\n",
       "      <th>max</th>\n",
       "    </tr>\n",
       "  </thead>\n",
       "  <tbody>\n",
       "    <tr>\n",
       "      <th>Temperature</th>\n",
       "      <td>189232.0</td>\n",
       "      <td>25.262492</td>\n",
       "      <td>4.585660</td>\n",
       "      <td>7.00000</td>\n",
       "      <td>22.02683</td>\n",
       "      <td>25.00000</td>\n",
       "      <td>28.21500</td>\n",
       "      <td>39.04500</td>\n",
       "    </tr>\n",
       "    <tr>\n",
       "      <th>Ph</th>\n",
       "      <td>189232.0</td>\n",
       "      <td>6.337846</td>\n",
       "      <td>0.788959</td>\n",
       "      <td>3.00000</td>\n",
       "      <td>5.80000</td>\n",
       "      <td>6.30000</td>\n",
       "      <td>6.90000</td>\n",
       "      <td>8.80000</td>\n",
       "    </tr>\n",
       "    <tr>\n",
       "      <th>Production</th>\n",
       "      <td>189232.0</td>\n",
       "      <td>5.262677</td>\n",
       "      <td>14.441616</td>\n",
       "      <td>0.00034</td>\n",
       "      <td>0.58442</td>\n",
       "      <td>1.16667</td>\n",
       "      <td>2.98963</td>\n",
       "      <td>955.75034</td>\n",
       "    </tr>\n",
       "  </tbody>\n",
       "</table>\n",
       "</div>"
      ],
      "text/plain": [
       "                 count       mean        std      min       25%       50%  \\\n",
       " Temperature  189232.0  25.262492   4.585660  7.00000  22.02683  25.00000   \n",
       " Ph           189232.0   6.337846   0.788959  3.00000   5.80000   6.30000   \n",
       " Production   189232.0   5.262677  14.441616  0.00034   0.58442   1.16667   \n",
       "\n",
       "                   75%        max  \n",
       " Temperature  28.21500   39.04500  \n",
       " Ph            6.90000    8.80000  \n",
       " Production    2.98963  955.75034  "
      ]
     },
     "execution_count": 152,
     "metadata": {},
     "output_type": "execute_result"
    }
   ],
   "source": [
    "production.describe().T"
   ]
  },
  {
   "cell_type": "code",
   "execution_count": 153,
   "metadata": {
    "ExecuteTime": {
     "end_time": "2020-05-08T17:11:34.584845Z",
     "start_time": "2020-05-08T17:11:34.571119Z"
    }
   },
   "outputs": [
    {
     "data": {
      "text/plain": [
       "(189232, 4)"
      ]
     },
     "execution_count": 153,
     "metadata": {},
     "output_type": "execute_result"
    }
   ],
   "source": [
    "production.shape"
   ]
  },
  {
   "cell_type": "markdown",
   "metadata": {},
   "source": [
    "## 3. Exploratory data analysis"
   ]
  },
  {
   "cell_type": "markdown",
   "metadata": {},
   "source": [
    "### 3.1 ANALYSIS OF CROP DATA"
   ]
  },
  {
   "cell_type": "markdown",
   "metadata": {},
   "source": [
    "#### 3.1.1 Analyzing crop v/s number of months required "
   ]
  },
  {
   "cell_type": "code",
   "execution_count": 20,
   "metadata": {
    "ExecuteTime": {
     "end_time": "2020-05-08T15:47:59.651768Z",
     "start_time": "2020-05-08T15:47:58.727085Z"
    }
   },
   "outputs": [
    {
     "data": {
      "text/plain": [
       "<matplotlib.axes._subplots.AxesSubplot at 0x7fc15fdc3be0>"
      ]
     },
     "execution_count": 20,
     "metadata": {},
     "output_type": "execute_result"
    },
    {
     "data": {
      "image/png": "[encoded data removed]",
      "text/plain": [
       "<Figure size 720x1440 with 1 Axes>"
      ]
     },
     "metadata": {
      "needs_background": "light"
     },
     "output_type": "display_data"
    }
   ],
   "source": [
    "plt.figure(figsize=(10,20))\n",
    "plt.ylabel('Crop')\n",
    "plt.xlabel('Number of months')\n",
    "sns.barplot(x=crop['no_of_months'],y=crop['crop_name'])"
   ]
  },
  {
   "cell_type": "markdown",
   "metadata": {},
   "source": [
    "#### 3.1.2 Analyzing min_temp distribution required by crop"
   ]
  },
  {
   "cell_type": "code",
   "execution_count": 26,
   "metadata": {
    "ExecuteTime": {
     "end_time": "2020-05-08T15:49:09.300308Z",
     "start_time": "2020-05-08T15:49:09.062239Z"
    }
   },
   "outputs": [
    {
     "data": {
      "text/plain": [
       "<matplotlib.axes._subplots.AxesSubplot at 0x7fc15c44af98>"
      ]
     },
     "execution_count": 26,
     "metadata": {},
     "output_type": "execute_result"
    },
    {
     "data": {
      "image/png": "[encoded data removed]",
      "text/plain": [
       "<Figure size 720x576 with 1 Axes>"
      ]
     },
     "metadata": {
      "needs_background": "light"
     },
     "output_type": "display_data"
    }
   ],
   "source": [
    "plt.figure(figsize=(10,8))\n",
    "sns.distplot(crop['min_temp'])"
   ]
  },
  {
   "cell_type": "code",
   "execution_count": 22,
   "metadata": {
    "ExecuteTime": {
     "end_time": "2020-05-08T15:48:19.229007Z",
     "start_time": "2020-05-08T15:48:18.986591Z"
    }
   },
   "outputs": [
    {
     "data": {
      "text/plain": [
       "Text(0.5, 1.0, 'PDF vs CDF for min_temp')"
      ]
     },
     "execution_count": 22,
     "metadata": {},
     "output_type": "execute_result"
    },
    {
     "data": {
      "image/png": "[encoded data removed]",
      "text/plain": [
       "<Figure size 720x576 with 1 Axes>"
      ]
     },
     "metadata": {
      "needs_background": "light"
     },
     "output_type": "display_data"
    }
   ],
   "source": [
    "count,binedges = np.histogram(crop['min_temp'], bins=5, density = True)\n",
    "pdf=count/sum(count)\n",
    "cdf=np.cumsum(pdf)\n",
    "plt.figure(figsize=(10,8))\n",
    "plt.plot(binedges[1:],pdf,label=\"PDF\")\n",
    "plt.plot(binedges[1:], cdf,label=\"CDF\")\n",
    "plt.xlabel('min_temp')\n",
    "plt.legend()\n",
    "plt.title(\"PDF vs CDF for min_temp\")"
   ]
  },
  {
   "cell_type": "markdown",
   "metadata": {},
   "source": [
    "<label>Observation : from the above plot</label>\n",
    "<blockquote style=\"color:maroon;font-size:18px;\">\n",
    "<ul type=\"none\">\n",
    "    <li>35% of all the crops that can be grown in india need atleast ~ 21 degrees minimum temperature.</li>\n",
    "    <li>90% of all the crops that can be grown in india need a minimum temperature of &le; 24 degrees of temperature.</li>\n",
    "</ul>    \n",
    "</blockquote>"
   ]
  },
  {
   "cell_type": "markdown",
   "metadata": {},
   "source": [
    "#### 3.1.3 Analyzing max_temp distribution required by crop"
   ]
  },
  {
   "cell_type": "code",
   "execution_count": 25,
   "metadata": {
    "ExecuteTime": {
     "end_time": "2020-05-08T15:49:01.963099Z",
     "start_time": "2020-05-08T15:49:01.729378Z"
    }
   },
   "outputs": [
    {
     "data": {
      "text/plain": [
       "<matplotlib.axes._subplots.AxesSubplot at 0x7fc15c73ac50>"
      ]
     },
     "execution_count": 25,
     "metadata": {},
     "output_type": "execute_result"
    },
    {
     "data": {
      "image/png": "[encoded data removed]",
      "text/plain": [
       "<Figure size 720x576 with 1 Axes>"
      ]
     },
     "metadata": {
      "needs_background": "light"
     },
     "output_type": "display_data"
    }
   ],
   "source": [
    "plt.figure(figsize=(10,8))\n",
    "sns.distplot(crop['max_temp'])"
   ]
  },
  {
   "cell_type": "code",
   "execution_count": 24,
   "metadata": {
    "ExecuteTime": {
     "end_time": "2020-05-08T15:48:30.511438Z",
     "start_time": "2020-05-08T15:48:30.255359Z"
    }
   },
   "outputs": [
    {
     "data": {
      "text/plain": [
       "Text(0.5, 1.0, 'PDF vs CDF for max_temp')"
      ]
     },
     "execution_count": 24,
     "metadata": {},
     "output_type": "execute_result"
    },
    {
     "data": {
      "image/png": "[encoded data removed]",
      "text/plain": [
       "<Figure size 720x576 with 1 Axes>"
      ]
     },
     "metadata": {
      "needs_background": "light"
     },
     "output_type": "display_data"
    }
   ],
   "source": [
    "count,binedges = np.histogram(crop['max_temp'], bins=5, density = True)\n",
    "pdf=count/sum(count)\n",
    "cdf=np.cumsum(pdf)\n",
    "plt.figure(figsize=(10,8))\n",
    "plt.plot(binedges[1:],pdf,label=\"PDF\")\n",
    "plt.plot(binedges[1:], cdf,label=\"CDF\")\n",
    "plt.xlabel('max_temp')\n",
    "plt.legend()\n",
    "plt.title(\"PDF vs CDF for max_temp\")"
   ]
  },
  {
   "cell_type": "markdown",
   "metadata": {},
   "source": [
    "<label>Observation : from the above plot</label>\n",
    "<blockquote style=\"color:maroon;font-size:18px;\">\n",
    "<ul type=\"none\">\n",
    "    <li>42% of all the crops that can be grown in india can atmost bear ~ 33 degrees of temperature.</li>\n",
    "    <li>90% of all the crops that can be grown in india can bear a maximum temperature of &le; 38 degrees of temperature.</li>\n",
    "</ul>    \n",
    "</blockquote>"
   ]
  },
  {
   "cell_type": "markdown",
   "metadata": {},
   "source": [
    "#### 3.1.4 Analyzing min_ph distribution required by crop"
   ]
  },
  {
   "cell_type": "code",
   "execution_count": 29,
   "metadata": {
    "ExecuteTime": {
     "end_time": "2020-05-08T15:49:46.550101Z",
     "start_time": "2020-05-08T15:49:46.312220Z"
    }
   },
   "outputs": [
    {
     "data": {
      "text/plain": [
       "<matplotlib.axes._subplots.AxesSubplot at 0x7fc15c42aa90>"
      ]
     },
     "execution_count": 29,
     "metadata": {},
     "output_type": "execute_result"
    },
    {
     "data": {
      "image/png": "[encoded data removed]",
      "text/plain": [
       "<Figure size 720x576 with 1 Axes>"
      ]
     },
     "metadata": {
      "needs_background": "light"
     },
     "output_type": "display_data"
    }
   ],
   "source": [
    "plt.figure(figsize=(10,8))\n",
    "sns.distplot(crop['min_ph'])"
   ]
  },
  {
   "cell_type": "code",
   "execution_count": 28,
   "metadata": {
    "ExecuteTime": {
     "end_time": "2020-05-08T15:49:38.174090Z",
     "start_time": "2020-05-08T15:49:37.935260Z"
    }
   },
   "outputs": [
    {
     "data": {
      "text/plain": [
       "Text(0.5, 1.0, 'PDF vs CDF for min_ph')"
      ]
     },
     "execution_count": 28,
     "metadata": {},
     "output_type": "execute_result"
    },
    {
     "data": {
      "image/png": "[encoded data removed]",
      "text/plain": [
       "<Figure size 720x576 with 1 Axes>"
      ]
     },
     "metadata": {
      "needs_background": "light"
     },
     "output_type": "display_data"
    }
   ],
   "source": [
    "count,binedges = np.histogram(crop['min_ph'], bins=4, density = True)\n",
    "pdf=count/sum(count)\n",
    "cdf=np.cumsum(pdf)\n",
    "plt.figure(figsize=(10,8))\n",
    "plt.plot(binedges[1:],pdf,label=\"PDF\")\n",
    "plt.plot(binedges[1:], cdf,label=\"CDF\")\n",
    "plt.xlabel('min_ph')\n",
    "plt.legend()\n",
    "plt.title(\"PDF vs CDF for min_ph\")"
   ]
  },
  {
   "cell_type": "markdown",
   "metadata": {},
   "source": [
    "<label>Observation : from the above plot</label>\n",
    "<blockquote style=\"color:maroon;font-size:18px;\">50% of the crops atleast need a minimum ph value of 6.0.\n",
    "</blockquote>"
   ]
  },
  {
   "cell_type": "markdown",
   "metadata": {},
   "source": [
    "#### 3.1.5 Analyzing max_ph distribution required by crop"
   ]
  },
  {
   "cell_type": "code",
   "execution_count": 32,
   "metadata": {
    "ExecuteTime": {
     "end_time": "2020-05-08T15:53:19.563896Z",
     "start_time": "2020-05-08T15:53:19.555805Z"
    }
   },
   "outputs": [
    {
     "name": "stdout",
     "output_type": "stream",
     "text": [
      "10.0\n"
     ]
    }
   ],
   "source": [
    "print(max(crop['max_ph']))"
   ]
  },
  {
   "cell_type": "markdown",
   "metadata": {},
   "source": [
    "<label>Observation : from the above plot</label>\n",
    "<blockquote style=\"color:maroon;font-size:18px;\">Any crop do not need ph value greater than 10.\n",
    "</blockquote>"
   ]
  },
  {
   "cell_type": "markdown",
   "metadata": {},
   "source": [
    "#### 3.1.6 Analyzing the required levels of nitrogen for the crops"
   ]
  },
  {
   "cell_type": "code",
   "execution_count": 40,
   "metadata": {
    "ExecuteTime": {
     "end_time": "2020-05-08T16:28:47.532184Z",
     "start_time": "2020-05-08T16:28:47.163513Z"
    }
   },
   "outputs": [
    {
     "data": {
      "text/plain": [
       "Text(0.5, 0, 'nitrogen requirement')"
      ]
     },
     "execution_count": 40,
     "metadata": {},
     "output_type": "execute_result"
    },
    {
     "data": {
      "image/png": "[encoded data removed]",
      "text/plain": [
       "<Figure size 720x576 with 1 Axes>"
      ]
     },
     "metadata": {
      "needs_background": "light"
     },
     "output_type": "display_data"
    }
   ],
   "source": [
    "plt.figure(figsize=(10,8))\n",
    "sns.countplot(x=crop['n'],hue=crop['n'])\n",
    "plt.xlabel('nitrogen requirement')"
   ]
  },
  {
   "cell_type": "code",
   "execution_count": 41,
   "metadata": {
    "ExecuteTime": {
     "end_time": "2020-05-08T16:28:49.505023Z",
     "start_time": "2020-05-08T16:28:49.491837Z"
    }
   },
   "outputs": [
    {
     "data": {
      "text/plain": [
       "count     56\n",
       "unique     4\n",
       "top       VL\n",
       "freq      26\n",
       "Name: n, dtype: object"
      ]
     },
     "execution_count": 41,
     "metadata": {},
     "output_type": "execute_result"
    }
   ],
   "source": [
    "crop['n'].describe()"
   ]
  },
  {
   "cell_type": "markdown",
   "metadata": {},
   "source": [
    "#### 3.1.7 Analyzing the required levels of phosphorous for the crops"
   ]
  },
  {
   "cell_type": "code",
   "execution_count": 42,
   "metadata": {
    "ExecuteTime": {
     "end_time": "2020-05-08T16:28:51.987424Z",
     "start_time": "2020-05-08T16:28:51.507332Z"
    }
   },
   "outputs": [
    {
     "data": {
      "text/plain": [
       "Text(0.5, 0, 'phosphorous requirement')"
      ]
     },
     "execution_count": 42,
     "metadata": {},
     "output_type": "execute_result"
    },
    {
     "data": {
      "image/png": "[encoded data removed]",
      "text/plain": [
       "<Figure size 720x576 with 1 Axes>"
      ]
     },
     "metadata": {
      "needs_background": "light"
     },
     "output_type": "display_data"
    }
   ],
   "source": [
    "plt.figure(figsize=(10,8))\n",
    "sns.countplot(x=crop['p'],hue=crop['p'])\n",
    "plt.xlabel('phosphorous requirement')"
   ]
  },
  {
   "cell_type": "code",
   "execution_count": 43,
   "metadata": {
    "ExecuteTime": {
     "end_time": "2020-05-08T16:28:54.117235Z",
     "start_time": "2020-05-08T16:28:54.103014Z"
    }
   },
   "outputs": [
    {
     "data": {
      "text/plain": [
       "count     56\n",
       "unique     4\n",
       "top        M\n",
       "freq      19\n",
       "Name: p, dtype: object"
      ]
     },
     "execution_count": 43,
     "metadata": {},
     "output_type": "execute_result"
    }
   ],
   "source": [
    "crop['p'].describe()"
   ]
  },
  {
   "cell_type": "markdown",
   "metadata": {},
   "source": [
    "#### 3.1.8 Analyzing the required levels of potassium for the crops"
   ]
  },
  {
   "cell_type": "code",
   "execution_count": 44,
   "metadata": {
    "ExecuteTime": {
     "end_time": "2020-05-08T16:28:56.494026Z",
     "start_time": "2020-05-08T16:28:56.146574Z"
    }
   },
   "outputs": [
    {
     "data": {
      "text/plain": [
       "Text(0.5, 0, 'potassium requirement')"
      ]
     },
     "execution_count": 44,
     "metadata": {},
     "output_type": "execute_result"
    },
    {
     "data": {
      "image/png": "[encoded data removed]",
      "text/plain": [
       "<Figure size 720x576 with 1 Axes>"
      ]
     },
     "metadata": {
      "needs_background": "light"
     },
     "output_type": "display_data"
    }
   ],
   "source": [
    "plt.figure(figsize=(10,8))\n",
    "sns.countplot(x=crop['k'],hue=crop['k'])\n",
    "plt.xlabel('potassium requirement')"
   ]
  },
  {
   "cell_type": "code",
   "execution_count": 45,
   "metadata": {
    "ExecuteTime": {
     "end_time": "2020-05-08T16:28:58.689506Z",
     "start_time": "2020-05-08T16:28:58.675388Z"
    }
   },
   "outputs": [
    {
     "data": {
      "text/plain": [
       "count     56\n",
       "unique     4\n",
       "top       VL\n",
       "freq      21\n",
       "Name: k, dtype: object"
      ]
     },
     "execution_count": 45,
     "metadata": {},
     "output_type": "execute_result"
    }
   ],
   "source": [
    "crop['k'].describe()"
   ]
  },
  {
   "cell_type": "markdown",
   "metadata": {
    "ExecuteTime": {
     "end_time": "2020-05-08T15:55:17.991676Z",
     "start_time": "2020-05-08T15:55:17.985050Z"
    }
   },
   "source": [
    "#### 3.1.9 Analyzing the min_rainfall"
   ]
  },
  {
   "cell_type": "code",
   "execution_count": 46,
   "metadata": {
    "ExecuteTime": {
     "end_time": "2020-05-08T16:29:01.706253Z",
     "start_time": "2020-05-08T16:29:01.462386Z"
    }
   },
   "outputs": [
    {
     "data": {
      "text/plain": [
       "<matplotlib.axes._subplots.AxesSubplot at 0x7fc15a042b70>"
      ]
     },
     "execution_count": 46,
     "metadata": {},
     "output_type": "execute_result"
    },
    {
     "data": {
      "image/png": "[encoded data removed]",
      "text/plain": [
       "<Figure size 720x576 with 1 Axes>"
      ]
     },
     "metadata": {
      "needs_background": "light"
     },
     "output_type": "display_data"
    }
   ],
   "source": [
    "plt.figure(figsize=(10,8))\n",
    "sns.distplot(crop['min_rainfall'])"
   ]
  },
  {
   "cell_type": "code",
   "execution_count": 49,
   "metadata": {
    "ExecuteTime": {
     "end_time": "2020-05-08T16:29:26.821869Z",
     "start_time": "2020-05-08T16:29:26.548595Z"
    }
   },
   "outputs": [
    {
     "data": {
      "text/plain": [
       "Text(0.5, 1.0, 'PDF vs CDF for min_rainfall')"
      ]
     },
     "execution_count": 49,
     "metadata": {},
     "output_type": "execute_result"
    },
    {
     "data": {
      "image/png": "[encoded data removed]",
      "text/plain": [
       "<Figure size 720x576 with 1 Axes>"
      ]
     },
     "metadata": {
      "needs_background": "light"
     },
     "output_type": "display_data"
    }
   ],
   "source": [
    "count,binedges = np.histogram(crop['min_rainfall'], bins=5, density = True)\n",
    "pdf=count/sum(count)\n",
    "cdf=np.cumsum(pdf)\n",
    "plt.figure(figsize=(10,8))\n",
    "plt.plot(binedges[1:],pdf,label=\"PDF\")\n",
    "plt.plot(binedges[1:], cdf,label=\"CDF\")\n",
    "plt.xlabel('min_rainfall')\n",
    "plt.legend()\n",
    "plt.title(\"PDF vs CDF for min_rainfall\")"
   ]
  },
  {
   "cell_type": "markdown",
   "metadata": {
    "ExecuteTime": {
     "end_time": "2020-05-08T16:25:32.171152Z",
     "start_time": "2020-05-08T16:25:32.158988Z"
    }
   },
   "source": [
    "<label>Observation : from the above plot</label>\n",
    "<blockquote style=\"color:maroon;font-size:18px;\">More than 80% of the crops need a rainfall of ≤ 960mm.\n",
    "</blockquote>"
   ]
  },
  {
   "cell_type": "markdown",
   "metadata": {
    "ExecuteTime": {
     "end_time": "2020-05-08T15:55:17.991676Z",
     "start_time": "2020-05-08T15:55:17.985050Z"
    }
   },
   "source": [
    "#### 3.1.9 Analyzing the max_rainfall"
   ]
  },
  {
   "cell_type": "code",
   "execution_count": 50,
   "metadata": {
    "ExecuteTime": {
     "end_time": "2020-05-08T16:29:54.261994Z",
     "start_time": "2020-05-08T16:29:53.965634Z"
    }
   },
   "outputs": [
    {
     "data": {
      "text/plain": [
       "<matplotlib.axes._subplots.AxesSubplot at 0x7fc159de8c88>"
      ]
     },
     "execution_count": 50,
     "metadata": {},
     "output_type": "execute_result"
    },
    {
     "data": {
      "image/png": "[encoded data removed]",
      "text/plain": [
       "<Figure size 720x576 with 1 Axes>"
      ]
     },
     "metadata": {
      "needs_background": "light"
     },
     "output_type": "display_data"
    }
   ],
   "source": [
    "plt.figure(figsize=(10,8))\n",
    "sns.distplot(crop['max_rainfall'])"
   ]
  },
  {
   "cell_type": "code",
   "execution_count": 53,
   "metadata": {
    "ExecuteTime": {
     "end_time": "2020-05-08T16:30:49.048135Z",
     "start_time": "2020-05-08T16:30:48.638964Z"
    }
   },
   "outputs": [
    {
     "data": {
      "text/plain": [
       "Text(0.5, 1.0, 'PDF vs CDF for max_rainfall')"
      ]
     },
     "execution_count": 53,
     "metadata": {},
     "output_type": "execute_result"
    },
    {
     "data": {
      "image/png": "[encoded data removed]",
      "text/plain": [
       "<Figure size 720x576 with 1 Axes>"
      ]
     },
     "metadata": {
      "needs_background": "light"
     },
     "output_type": "display_data"
    }
   ],
   "source": [
    "count,binedges = np.histogram(crop['max_rainfall'], bins=5, density = True)\n",
    "pdf=count/sum(count)\n",
    "cdf=np.cumsum(pdf)\n",
    "plt.figure(figsize=(10,8))\n",
    "plt.plot(binedges[1:],pdf,label=\"PDF\")\n",
    "plt.plot(binedges[1:], cdf,label=\"CDF\")\n",
    "plt.xlabel('max_rainfall')\n",
    "plt.legend()\n",
    "plt.title(\"PDF vs CDF for max_rainfall\")"
   ]
  },
  {
   "cell_type": "markdown",
   "metadata": {
    "ExecuteTime": {
     "end_time": "2020-05-08T16:25:32.171152Z",
     "start_time": "2020-05-08T16:25:32.158988Z"
    }
   },
   "source": [
    "<label>Observation : from the above plot</label>\n",
    "<blockquote style=\"color:maroon;font-size:18px;\">For 98% of the crops a max rainfall ≤ 2500mm is sufficient.\n",
    "</blockquote>"
   ]
  },
  {
   "cell_type": "markdown",
   "metadata": {},
   "source": [
    "### 3.2 ANALYSIS OF RAINFALL DATA"
   ]
  },
  {
   "cell_type": "markdown",
   "metadata": {},
   "source": [
    "#### 3.2.1 Analyzing the temperatures of Bangalore"
   ]
  },
  {
   "cell_type": "code",
   "execution_count": 54,
   "metadata": {
    "ExecuteTime": {
     "end_time": "2020-05-08T16:32:32.672414Z",
     "start_time": "2020-05-08T16:32:32.646140Z"
    }
   },
   "outputs": [
    {
     "data": {
      "text/html": [
       "<div>\n",
       "<style scoped>\n",
       "    .dataframe tbody tr th:only-of-type {\n",
       "        vertical-align: middle;\n",
       "    }\n",
       "\n",
       "    .dataframe tbody tr th {\n",
       "        vertical-align: top;\n",
       "    }\n",
       "\n",
       "    .dataframe thead th {\n",
       "        text-align: right;\n",
       "    }\n",
       "</style>\n",
       "<table border=\"1\" class=\"dataframe\">\n",
       "  <thead>\n",
       "    <tr style=\"text-align: right;\">\n",
       "      <th></th>\n",
       "      <th>city</th>\n",
       "      <th>state</th>\n",
       "      <th>month</th>\n",
       "      <th>max_temp</th>\n",
       "      <th>min_temp</th>\n",
       "      <th>rainfall</th>\n",
       "    </tr>\n",
       "  </thead>\n",
       "  <tbody>\n",
       "    <tr>\n",
       "      <th>0</th>\n",
       "      <td>Bangalore</td>\n",
       "      <td>Karnataka</td>\n",
       "      <td>January</td>\n",
       "      <td>27.4</td>\n",
       "      <td>15.0</td>\n",
       "      <td>4.9</td>\n",
       "    </tr>\n",
       "    <tr>\n",
       "      <th>1</th>\n",
       "      <td>Bangalore</td>\n",
       "      <td>Karnataka</td>\n",
       "      <td>February</td>\n",
       "      <td>30.1</td>\n",
       "      <td>16.6</td>\n",
       "      <td>7.9</td>\n",
       "    </tr>\n",
       "    <tr>\n",
       "      <th>2</th>\n",
       "      <td>Bangalore</td>\n",
       "      <td>Karnataka</td>\n",
       "      <td>March</td>\n",
       "      <td>32.8</td>\n",
       "      <td>19.0</td>\n",
       "      <td>10.0</td>\n",
       "    </tr>\n",
       "    <tr>\n",
       "      <th>3</th>\n",
       "      <td>Bangalore</td>\n",
       "      <td>Karnataka</td>\n",
       "      <td>April</td>\n",
       "      <td>33.9</td>\n",
       "      <td>21.3</td>\n",
       "      <td>43.9</td>\n",
       "    </tr>\n",
       "    <tr>\n",
       "      <th>4</th>\n",
       "      <td>Bangalore</td>\n",
       "      <td>Karnataka</td>\n",
       "      <td>May</td>\n",
       "      <td>33.1</td>\n",
       "      <td>21.1</td>\n",
       "      <td>111.9</td>\n",
       "    </tr>\n",
       "  </tbody>\n",
       "</table>\n",
       "</div>"
      ],
      "text/plain": [
       "         city      state      month  max_temp  min_temp  rainfall\n",
       "0  Bangalore   Karnataka   January       27.4      15.0       4.9\n",
       "1  Bangalore   Karnataka  February       30.1      16.6       7.9\n",
       "2  Bangalore   Karnataka     March       32.8      19.0      10.0\n",
       "3  Bangalore   Karnataka     April       33.9      21.3      43.9\n",
       "4  Bangalore   Karnataka       May       33.1      21.1     111.9"
      ]
     },
     "execution_count": 54,
     "metadata": {},
     "output_type": "execute_result"
    }
   ],
   "source": [
    "city = rainfall[rainfall.city=='Bangalore ']\n",
    "city.head()"
   ]
  },
  {
   "cell_type": "code",
   "execution_count": 55,
   "metadata": {
    "ExecuteTime": {
     "end_time": "2020-05-08T16:32:35.077190Z",
     "start_time": "2020-05-08T16:32:34.726367Z"
    }
   },
   "outputs": [
    {
     "data": {
      "text/plain": [
       "<matplotlib.axes._subplots.AxesSubplot at 0x7fc159c2cb00>"
      ]
     },
     "execution_count": 55,
     "metadata": {},
     "output_type": "execute_result"
    },
    {
     "data": {
      "image/png": "[encoded data removed]",
      "text/plain": [
       "<Figure size 864x576 with 1 Axes>"
      ]
     },
     "metadata": {
      "needs_background": "light"
     },
     "output_type": "display_data"
    }
   ],
   "source": [
    "plt.figure(figsize=(12,8))\n",
    "plt.title(\"Min temperature in various months in bangalore\")\n",
    "sns.barplot(data=city,x='month',y='min_temp')"
   ]
  },
  {
   "cell_type": "code",
   "execution_count": 57,
   "metadata": {
    "ExecuteTime": {
     "end_time": "2020-05-08T16:32:41.160701Z",
     "start_time": "2020-05-08T16:32:40.810503Z"
    }
   },
   "outputs": [
    {
     "data": {
      "text/plain": [
       "<matplotlib.axes._subplots.AxesSubplot at 0x7fc159b41cc0>"
      ]
     },
     "execution_count": 57,
     "metadata": {},
     "output_type": "execute_result"
    },
    {
     "data": {
      "image/png": "[encoded data removed]",
      "text/plain": [
       "<Figure size 864x576 with 1 Axes>"
      ]
     },
     "metadata": {
      "needs_background": "light"
     },
     "output_type": "display_data"
    }
   ],
   "source": [
    "plt.figure(figsize=(12,8))\n",
    "plt.title(\"Max temperature in various months in bangalore\")\n",
    "sns.barplot(data=city,x='month',y='max_temp')"
   ]
  },
  {
   "cell_type": "code",
   "execution_count": 59,
   "metadata": {
    "ExecuteTime": {
     "end_time": "2020-05-08T16:32:52.460686Z",
     "start_time": "2020-05-08T16:32:51.904132Z"
    }
   },
   "outputs": [
    {
     "data": {
      "text/plain": [
       "<matplotlib.axes._subplots.AxesSubplot at 0x7fc159d3bc50>"
      ]
     },
     "execution_count": 59,
     "metadata": {},
     "output_type": "execute_result"
    },
    {
     "data": {
      "image/png": "[encoded data removed]",
      "text/plain": [
       "<Figure size 864x576 with 1 Axes>"
      ]
     },
     "metadata": {
      "needs_background": "light"
     },
     "output_type": "display_data"
    }
   ],
   "source": [
    "plt.figure(figsize=(12,8))\n",
    "plt.title(\"Rainfall in various months in bangalore\")\n",
    "sns.barplot(data=city,x='month',y='rainfall')"
   ]
  },
  {
   "cell_type": "markdown",
   "metadata": {},
   "source": [
    "### 3.3 ANALYZING THE NUTRIENTS DATA"
   ]
  },
  {
   "cell_type": "markdown",
   "metadata": {},
   "source": [
    "#### 3.3.1 Analyzing ph value for each state"
   ]
  },
  {
   "cell_type": "code",
   "execution_count": 60,
   "metadata": {
    "ExecuteTime": {
     "end_time": "2020-05-08T16:32:55.472065Z",
     "start_time": "2020-05-08T16:32:54.881336Z"
    }
   },
   "outputs": [
    {
     "data": {
      "text/plain": [
       "<matplotlib.axes._subplots.AxesSubplot at 0x7fc159b76b70>"
      ]
     },
     "execution_count": 60,
     "metadata": {},
     "output_type": "execute_result"
    },
    {
     "data": {
      "image/png": "[encoded data removed]",
      "text/plain": [
       "<Figure size 720x720 with 1 Axes>"
      ]
     },
     "metadata": {
      "needs_background": "light"
     },
     "output_type": "display_data"
    }
   ],
   "source": [
    "plt.figure(figsize=(10,10))\n",
    "plt.xlabel(\"PH value\")\n",
    "plt.ylabel(\"State\")\n",
    "plt.title(\"PH level for each state\")\n",
    "sns.barplot(data=nutrients,x='ph',y='state')"
   ]
  },
  {
   "cell_type": "markdown",
   "metadata": {},
   "source": [
    "#### 3.3.2 Analyzing the nitrogen, phosphorous, potassium levels in each state"
   ]
  },
  {
   "cell_type": "code",
   "execution_count": 61,
   "metadata": {
    "ExecuteTime": {
     "end_time": "2020-05-08T16:32:58.136534Z",
     "start_time": "2020-05-08T16:32:58.112266Z"
    }
   },
   "outputs": [
    {
     "data": {
      "text/html": [
       "<div>\n",
       "<style scoped>\n",
       "    .dataframe tbody tr th:only-of-type {\n",
       "        vertical-align: middle;\n",
       "    }\n",
       "\n",
       "    .dataframe tbody tr th {\n",
       "        vertical-align: top;\n",
       "    }\n",
       "\n",
       "    .dataframe thead th {\n",
       "        text-align: right;\n",
       "    }\n",
       "</style>\n",
       "<table border=\"1\" class=\"dataframe\">\n",
       "  <thead>\n",
       "    <tr style=\"text-align: right;\">\n",
       "      <th></th>\n",
       "      <th>state</th>\n",
       "      <th>n</th>\n",
       "      <th>p</th>\n",
       "      <th>k</th>\n",
       "      <th>ph</th>\n",
       "    </tr>\n",
       "  </thead>\n",
       "  <tbody>\n",
       "    <tr>\n",
       "      <th>0</th>\n",
       "      <td>Andaman and Nicobar</td>\n",
       "      <td>L</td>\n",
       "      <td>VL</td>\n",
       "      <td>L</td>\n",
       "      <td>6.5</td>\n",
       "    </tr>\n",
       "    <tr>\n",
       "      <th>1</th>\n",
       "      <td>Andhra Pradesh</td>\n",
       "      <td>H</td>\n",
       "      <td>VH</td>\n",
       "      <td>M</td>\n",
       "      <td>6.3</td>\n",
       "    </tr>\n",
       "    <tr>\n",
       "      <th>2</th>\n",
       "      <td>Arunachal Pradesh</td>\n",
       "      <td>H</td>\n",
       "      <td>M</td>\n",
       "      <td>M</td>\n",
       "      <td>5.6</td>\n",
       "    </tr>\n",
       "    <tr>\n",
       "      <th>3</th>\n",
       "      <td>Assam</td>\n",
       "      <td>M</td>\n",
       "      <td>L</td>\n",
       "      <td>VL</td>\n",
       "      <td>6.5</td>\n",
       "    </tr>\n",
       "    <tr>\n",
       "      <th>4</th>\n",
       "      <td>Bihar</td>\n",
       "      <td>VL</td>\n",
       "      <td>VH</td>\n",
       "      <td>H</td>\n",
       "      <td>6.0</td>\n",
       "    </tr>\n",
       "    <tr>\n",
       "      <th>5</th>\n",
       "      <td>Goa</td>\n",
       "      <td>M</td>\n",
       "      <td>VL</td>\n",
       "      <td>M</td>\n",
       "      <td>5.4</td>\n",
       "    </tr>\n",
       "    <tr>\n",
       "      <th>6</th>\n",
       "      <td>Gujarat</td>\n",
       "      <td>L</td>\n",
       "      <td>VH</td>\n",
       "      <td>H</td>\n",
       "      <td>6.0</td>\n",
       "    </tr>\n",
       "    <tr>\n",
       "      <th>7</th>\n",
       "      <td>Haryana</td>\n",
       "      <td>VL</td>\n",
       "      <td>M</td>\n",
       "      <td>H</td>\n",
       "      <td>6.0</td>\n",
       "    </tr>\n",
       "    <tr>\n",
       "      <th>8</th>\n",
       "      <td>Himachal Pradesh</td>\n",
       "      <td>M</td>\n",
       "      <td>M</td>\n",
       "      <td>H</td>\n",
       "      <td>6.5</td>\n",
       "    </tr>\n",
       "    <tr>\n",
       "      <th>9</th>\n",
       "      <td>Jammu and Kashmir</td>\n",
       "      <td>H</td>\n",
       "      <td>M</td>\n",
       "      <td>M</td>\n",
       "      <td>6.0</td>\n",
       "    </tr>\n",
       "    <tr>\n",
       "      <th>10</th>\n",
       "      <td>Jharkhand</td>\n",
       "      <td>L</td>\n",
       "      <td>M</td>\n",
       "      <td>M</td>\n",
       "      <td>6.2</td>\n",
       "    </tr>\n",
       "    <tr>\n",
       "      <th>11</th>\n",
       "      <td>Kerala</td>\n",
       "      <td>H</td>\n",
       "      <td>VH</td>\n",
       "      <td>M</td>\n",
       "      <td>6.2</td>\n",
       "    </tr>\n",
       "    <tr>\n",
       "      <th>12</th>\n",
       "      <td>Madhya Pradesh</td>\n",
       "      <td>L</td>\n",
       "      <td>M</td>\n",
       "      <td>H</td>\n",
       "      <td>6.2</td>\n",
       "    </tr>\n",
       "    <tr>\n",
       "      <th>13</th>\n",
       "      <td>Maharashtra</td>\n",
       "      <td>M</td>\n",
       "      <td>H</td>\n",
       "      <td>M</td>\n",
       "      <td>6.0</td>\n",
       "    </tr>\n",
       "    <tr>\n",
       "      <th>14</th>\n",
       "      <td>Manipur</td>\n",
       "      <td>L</td>\n",
       "      <td>VH</td>\n",
       "      <td>L</td>\n",
       "      <td>5.7</td>\n",
       "    </tr>\n",
       "    <tr>\n",
       "      <th>15</th>\n",
       "      <td>Meghalya</td>\n",
       "      <td>L</td>\n",
       "      <td>M</td>\n",
       "      <td>M</td>\n",
       "      <td>5.9</td>\n",
       "    </tr>\n",
       "    <tr>\n",
       "      <th>16</th>\n",
       "      <td>Mizoram</td>\n",
       "      <td>M</td>\n",
       "      <td>M</td>\n",
       "      <td>M</td>\n",
       "      <td>5.0</td>\n",
       "    </tr>\n",
       "    <tr>\n",
       "      <th>17</th>\n",
       "      <td>Nagaland</td>\n",
       "      <td>M</td>\n",
       "      <td>VL</td>\n",
       "      <td>H</td>\n",
       "      <td>6.1</td>\n",
       "    </tr>\n",
       "    <tr>\n",
       "      <th>18</th>\n",
       "      <td>Odisha</td>\n",
       "      <td>VL</td>\n",
       "      <td>M</td>\n",
       "      <td>M</td>\n",
       "      <td>6.3</td>\n",
       "    </tr>\n",
       "    <tr>\n",
       "      <th>19</th>\n",
       "      <td>Puduchery</td>\n",
       "      <td>L</td>\n",
       "      <td>M</td>\n",
       "      <td>M</td>\n",
       "      <td>5.8</td>\n",
       "    </tr>\n",
       "    <tr>\n",
       "      <th>20</th>\n",
       "      <td>Punjab</td>\n",
       "      <td>M</td>\n",
       "      <td>M</td>\n",
       "      <td>H</td>\n",
       "      <td>5.9</td>\n",
       "    </tr>\n",
       "    <tr>\n",
       "      <th>21</th>\n",
       "      <td>Rajasthan</td>\n",
       "      <td>L</td>\n",
       "      <td>M</td>\n",
       "      <td>L</td>\n",
       "      <td>6.0</td>\n",
       "    </tr>\n",
       "    <tr>\n",
       "      <th>22</th>\n",
       "      <td>Sikkim</td>\n",
       "      <td>M</td>\n",
       "      <td>M</td>\n",
       "      <td>M</td>\n",
       "      <td>6.0</td>\n",
       "    </tr>\n",
       "    <tr>\n",
       "      <th>23</th>\n",
       "      <td>Tamilnadu</td>\n",
       "      <td>H</td>\n",
       "      <td>VH</td>\n",
       "      <td>H</td>\n",
       "      <td>6.0</td>\n",
       "    </tr>\n",
       "    <tr>\n",
       "      <th>24</th>\n",
       "      <td>Tripura</td>\n",
       "      <td>L</td>\n",
       "      <td>M</td>\n",
       "      <td>L</td>\n",
       "      <td>7.0</td>\n",
       "    </tr>\n",
       "    <tr>\n",
       "      <th>25</th>\n",
       "      <td>Uttar Pradesh</td>\n",
       "      <td>VL</td>\n",
       "      <td>M</td>\n",
       "      <td>H</td>\n",
       "      <td>6.9</td>\n",
       "    </tr>\n",
       "    <tr>\n",
       "      <th>26</th>\n",
       "      <td>Uttarkhand</td>\n",
       "      <td>L</td>\n",
       "      <td>M</td>\n",
       "      <td>M</td>\n",
       "      <td>6.5</td>\n",
       "    </tr>\n",
       "    <tr>\n",
       "      <th>27</th>\n",
       "      <td>West Bengal</td>\n",
       "      <td>M</td>\n",
       "      <td>VH</td>\n",
       "      <td>M</td>\n",
       "      <td>5.6</td>\n",
       "    </tr>\n",
       "    <tr>\n",
       "      <th>28</th>\n",
       "      <td>Chattisgarh</td>\n",
       "      <td>L</td>\n",
       "      <td>M</td>\n",
       "      <td>L</td>\n",
       "      <td>6.5</td>\n",
       "    </tr>\n",
       "    <tr>\n",
       "      <th>29</th>\n",
       "      <td>Telanagana</td>\n",
       "      <td>L</td>\n",
       "      <td>VH</td>\n",
       "      <td>H</td>\n",
       "      <td>6.0</td>\n",
       "    </tr>\n",
       "    <tr>\n",
       "      <th>30</th>\n",
       "      <td>Karnataka</td>\n",
       "      <td>L</td>\n",
       "      <td>VH</td>\n",
       "      <td>M</td>\n",
       "      <td>6.2</td>\n",
       "    </tr>\n",
       "  </tbody>\n",
       "</table>\n",
       "</div>"
      ],
      "text/plain": [
       "                  state   n   p   k   ph\n",
       "0   Andaman and Nicobar   L  VL   L  6.5\n",
       "1        Andhra Pradesh   H  VH   M  6.3\n",
       "2     Arunachal Pradesh   H   M   M  5.6\n",
       "3                 Assam   M   L  VL  6.5\n",
       "4                 Bihar  VL  VH   H  6.0\n",
       "5                   Goa   M  VL   M  5.4\n",
       "6               Gujarat   L  VH   H  6.0\n",
       "7               Haryana  VL   M   H  6.0\n",
       "8      Himachal Pradesh   M   M   H  6.5\n",
       "9     Jammu and Kashmir   H   M   M  6.0\n",
       "10            Jharkhand   L   M   M  6.2\n",
       "11               Kerala   H  VH   M  6.2\n",
       "12       Madhya Pradesh   L   M   H  6.2\n",
       "13          Maharashtra   M   H   M  6.0\n",
       "14              Manipur   L  VH   L  5.7\n",
       "15             Meghalya   L   M   M  5.9\n",
       "16              Mizoram   M   M   M  5.0\n",
       "17             Nagaland   M  VL   H  6.1\n",
       "18               Odisha  VL   M   M  6.3\n",
       "19            Puduchery   L   M   M  5.8\n",
       "20               Punjab   M   M   H  5.9\n",
       "21            Rajasthan   L   M   L  6.0\n",
       "22               Sikkim   M   M   M  6.0\n",
       "23            Tamilnadu   H  VH   H  6.0\n",
       "24              Tripura   L   M   L  7.0\n",
       "25        Uttar Pradesh  VL   M   H  6.9\n",
       "26           Uttarkhand   L   M   M  6.5\n",
       "27          West Bengal   M  VH   M  5.6\n",
       "28          Chattisgarh   L   M   L  6.5\n",
       "29           Telanagana   L  VH   H  6.0\n",
       "30            Karnataka   L  VH   M  6.2"
      ]
     },
     "execution_count": 61,
     "metadata": {},
     "output_type": "execute_result"
    }
   ],
   "source": [
    "nutrients"
   ]
  },
  {
   "cell_type": "markdown",
   "metadata": {},
   "source": [
    "## 4. Recommendation of the crop"
   ]
  },
  {
   "cell_type": "markdown",
   "metadata": {},
   "source": [
    "### 4.1 Taking the users preference"
   ]
  },
  {
   "cell_type": "code",
   "execution_count": 77,
   "metadata": {
    "ExecuteTime": {
     "end_time": "2020-05-08T16:38:08.227222Z",
     "start_time": "2020-05-08T16:38:05.186326Z"
    }
   },
   "outputs": [
    {
     "name": "stdout",
     "output_type": "stream",
     "text": [
      "Kolkata\n"
     ]
    }
   ],
   "source": [
    "city_name = input()+str(' ')"
   ]
  },
  {
   "cell_type": "code",
   "execution_count": 78,
   "metadata": {
    "ExecuteTime": {
     "end_time": "2020-05-08T16:38:19.648303Z",
     "start_time": "2020-05-08T16:38:12.186158Z"
    }
   },
   "outputs": [
    {
     "name": "stdout",
     "output_type": "stream",
     "text": [
      "West Bengal\n"
     ]
    }
   ],
   "source": [
    "state_name = input()"
   ]
  },
  {
   "cell_type": "markdown",
   "metadata": {
    "ExecuteTime": {
     "end_time": "2020-05-07T19:37:54.581840Z",
     "start_time": "2020-05-07T19:37:54.578033Z"
    }
   },
   "source": [
    "### 4.2 Getting appropriate crops based on the climatic conditions of the suitable cities"
   ]
  },
  {
   "cell_type": "code",
   "execution_count": 79,
   "metadata": {
    "ExecuteTime": {
     "end_time": "2020-05-08T16:38:23.269936Z",
     "start_time": "2020-05-08T16:38:23.260257Z"
    }
   },
   "outputs": [],
   "source": [
    "min_rainfall_for_crop = crop['min_rainfall'].values\n",
    "max_rainfall_for_crop = crop['max_rainfall'].values\n",
    "min_temp_for_crop = crop['min_temp'].values\n",
    "max_temp_for_crop = crop['max_temp'].values\n",
    "city = rainfall[rainfall.city==city_name]\n",
    "city_max_temp = city['max_temp'].values\n",
    "city_min_temp = city['min_temp'].values\n",
    "city_rainfall = city['rainfall'].values\n",
    "crop_index1 = []\n",
    "temp =[]\n",
    "month_index1 = {}\n",
    "for i in range(len(city_max_temp)):\n",
    "    temp=[]\n",
    "    for j in range(len(min_rainfall_for_crop)):\n",
    "        if city_rainfall[i]>=min_rainfall_for_crop[j] and city_rainfall[i]<=max_rainfall_for_crop[j]:\n",
    "            if (city_max_temp[i]<=max_temp_for_crop[j]) and (city_min_temp[i]>=min_temp_for_crop[j]):\n",
    "                crop_index1.append(j)\n",
    "                temp.append(j)\n",
    "        month_index1[i]=temp"
   ]
  },
  {
   "cell_type": "code",
   "execution_count": 80,
   "metadata": {
    "ExecuteTime": {
     "end_time": "2020-05-08T16:38:25.560673Z",
     "start_time": "2020-05-08T16:38:25.556455Z"
    }
   },
   "outputs": [],
   "source": [
    "crop_index1 = np.unique(crop_index1)"
   ]
  },
  {
   "cell_type": "markdown",
   "metadata": {},
   "source": [
    "### 4.3 Getting appropriate crops according to states current nitrogen,phosphorous, potassium levels"
   ]
  },
  {
   "cell_type": "code",
   "execution_count": 104,
   "metadata": {
    "ExecuteTime": {
     "end_time": "2020-05-08T16:54:10.425438Z",
     "start_time": "2020-05-08T16:54:10.409755Z"
    }
   },
   "outputs": [],
   "source": [
    "crop_n_level = crop['n'].values \n",
    "crop_p_level = crop['p'].values\n",
    "crop_k_level = crop['k'].values\n",
    "state_n_value = nutrients[nutrients.state==state_name].n\n",
    "state_p_value = nutrients[nutrients.state==state_name].p\n",
    "state_k_value = nutrients[nutrients.state==state_name].k\n",
    "state_ph_level = nutrients[nutrients.state==state_name].ph\n",
    "crop_index2=[]\n",
    "count=0\n",
    "for i in range(len(crop_k_level)):\n",
    "    if crop_k_level[i]==str(state_k_value.values[0]):\n",
    "        count+=1\n",
    "    if crop_p_level[i]==str(state_p_value.values[0]):\n",
    "        count+=1\n",
    "    if crop_n_level[i]==str(state_n_value.values[0]):\n",
    "        count+=1\n",
    "    if crop.min_ph.values[i]<=state_ph_level.values[0] and crop.max_ph.values[i]<=state_ph_level.values[0]:\n",
    "        count+1\n",
    "    if count>1:\n",
    "        crop_index2.append(i)\n",
    "    count=0"
   ]
  },
  {
   "cell_type": "markdown",
   "metadata": {
    "ExecuteTime": {
     "end_time": "2020-05-07T20:52:58.817213Z",
     "start_time": "2020-05-07T20:52:58.814694Z"
    }
   },
   "source": [
    "## 4.4 Suggesting best values based on production levels"
   ]
  },
  {
   "cell_type": "markdown",
   "metadata": {},
   "source": [
    "### 4.4.1 Getting Best recommendations from above both 4.2 and 4.3 methods"
   ]
  },
  {
   "cell_type": "code",
   "execution_count": 105,
   "metadata": {
    "ExecuteTime": {
     "end_time": "2020-05-08T16:57:23.874680Z",
     "start_time": "2020-05-08T16:57:23.868616Z"
    }
   },
   "outputs": [],
   "source": [
    "crop_recommendations1=[]\n",
    "crop_recommendations2=[]\n",
    "for i in crop_index1:\n",
    "    crop_recommendations1.append(crop['crop_name'].values[i])\n",
    "for i in crop_index2:\n",
    "    crop_recommendations2.append(crop['crop_name'].values[i])"
   ]
  },
  {
   "cell_type": "code",
   "execution_count": 106,
   "metadata": {
    "ExecuteTime": {
     "end_time": "2020-05-08T16:57:38.929625Z",
     "start_time": "2020-05-08T16:57:38.923550Z"
    }
   },
   "outputs": [
    {
     "name": "stdout",
     "output_type": "stream",
     "text": [
      "The best crop recommendations based on the climatic conditions for the West Bengal state and Kolkata  city are : \n",
      "\n",
      "['Bean', 'Guar seed', 'Jute']\n"
     ]
    }
   ],
   "source": [
    "print(\"The best crop recommendations based on the climatic conditions for the {0} state and {1} city are : \\n\".format(state_name,city_name))\n",
    "print(crop_recommendations1)"
   ]
  },
  {
   "cell_type": "code",
   "execution_count": 107,
   "metadata": {
    "ExecuteTime": {
     "end_time": "2020-05-08T16:57:57.904081Z",
     "start_time": "2020-05-08T16:57:57.899919Z"
    }
   },
   "outputs": [
    {
     "name": "stdout",
     "output_type": "stream",
     "text": [
      "The best crop recommendations based on the soil for the West Bengal state and Kolkata  city are : \n",
      "\n",
      "['Carrot', 'Cauliflower', 'Mesta', 'Soyabean']\n"
     ]
    }
   ],
   "source": [
    "print(\"The best crop recommendations based on the soil for the {0} state and {1} city are : \\n\".format(state_name,city_name))\n",
    "print(crop_recommendations2)"
   ]
  },
  {
   "cell_type": "markdown",
   "metadata": {},
   "source": [
    "### 4.4.2 Getting Producton rate of above crops"
   ]
  },
  {
   "cell_type": "code",
   "execution_count": 164,
   "metadata": {
    "ExecuteTime": {
     "end_time": "2020-05-08T17:12:56.197144Z",
     "start_time": "2020-05-08T17:12:56.186979Z"
    }
   },
   "outputs": [],
   "source": [
    "avg_temp = (city_min_temp + city_max_temp)/2\n",
    "avg_temp = sum(avg_temp)/12\n",
    "ph_value = nutrients[nutrients.state==state_name].ph.values[0]"
   ]
  },
  {
   "cell_type": "code",
   "execution_count": 174,
   "metadata": {
    "ExecuteTime": {
     "end_time": "2020-05-08T17:17:20.493456Z",
     "start_time": "2020-05-08T17:17:20.318424Z"
    }
   },
   "outputs": [],
   "source": [
    "production = production.rename({' Production':'production',' Temperature':'temperature',' Ph':'ph'},axis=1)\n",
    "x = production.drop('production',axis=1)\n",
    "y = production.production.values\n",
    "crop_names = np.unique(x['Crop'].values)"
   ]
  },
  {
   "cell_type": "code",
   "execution_count": 166,
   "metadata": {
    "ExecuteTime": {
     "end_time": "2020-05-08T17:12:57.816941Z",
     "start_time": "2020-05-08T17:12:57.785558Z"
    }
   },
   "outputs": [],
   "source": [
    "x_train, x_test, y_train, y_test = train_test_split(x, y, test_size=0.3,random_state=0)"
   ]
  },
  {
   "cell_type": "code",
   "execution_count": 167,
   "metadata": {
    "ExecuteTime": {
     "end_time": "2020-05-08T17:12:58.610295Z",
     "start_time": "2020-05-08T17:12:58.606563Z"
    }
   },
   "outputs": [
    {
     "name": "stdout",
     "output_type": "stream",
     "text": [
      "(132462, 3)\n",
      "(56770, 3)\n"
     ]
    }
   ],
   "source": [
    "print(x_train.shape)\n",
    "print(x_test.shape)"
   ]
  },
  {
   "cell_type": "code",
   "execution_count": 168,
   "metadata": {
    "ExecuteTime": {
     "end_time": "2020-05-08T17:13:01.659947Z",
     "start_time": "2020-05-08T17:12:59.411940Z"
    }
   },
   "outputs": [],
   "source": [
    "vec = CountVectorizer()\n",
    "vec.fit(x_train.Crop)\n",
    "x_train_crop = vec.transform(x_train.Crop)\n",
    "x_test_crop = vec.transform(x_test.Crop)"
   ]
  },
  {
   "cell_type": "code",
   "execution_count": 169,
   "metadata": {
    "ExecuteTime": {
     "end_time": "2020-05-08T17:13:03.252226Z",
     "start_time": "2020-05-08T17:13:03.142683Z"
    }
   },
   "outputs": [],
   "source": [
    "x_tr = hstack((x_train.temperature.values.reshape(-1,1),x_train.ph.values.reshape(-1,1),x_train_crop)).tocsr()\n",
    "x_ts = hstack((x_test.temperature.values.reshape(-1,1),x_test.ph.values.reshape(-1,1),x_test_crop)).tocsr()"
   ]
  },
  {
   "cell_type": "code",
   "execution_count": 105,
   "metadata": {
    "ExecuteTime": {
     "end_time": "2020-05-07T22:01:52.808093Z",
     "start_time": "2020-05-07T21:54:31.854189Z"
    }
   },
   "outputs": [
    {
     "name": "stdout",
     "output_type": "stream",
     "text": [
      "0.9374460642814206\n",
      "0.9116142943169792\n"
     ]
    }
   ],
   "source": [
    "rg = RandomForestRegressor()\n",
    "rg.fit(x_tr,y_train)\n",
    "print(rg.score(x_tr,y_train))\n",
    "print(rg.score(x_ts,y_test))"
   ]
  },
  {
   "cell_type": "markdown",
   "metadata": {},
   "source": [
    "#########################################################################"
   ]
  },
  {
   "cell_type": "code",
   "execution_count": 175,
   "metadata": {
    "ExecuteTime": {
     "end_time": "2020-05-08T17:17:25.104692Z",
     "start_time": "2020-05-08T17:17:25.082531Z"
    }
   },
   "outputs": [],
   "source": [
    "production = production.rename({' Production':'production',' Temperature':'temperature',' Ph':'ph'},axis=1)\n",
    "x = production.drop('production',axis=1)\n",
    "y = production.production.values"
   ]
  },
  {
   "cell_type": "code",
   "execution_count": 176,
   "metadata": {
    "ExecuteTime": {
     "end_time": "2020-05-08T17:17:27.026182Z",
     "start_time": "2020-05-08T17:17:26.972140Z"
    }
   },
   "outputs": [],
   "source": [
    "l = LabelEncoder()\n",
    "l.fit(x.Crop)\n",
    "x['Crop'] = l.transform(x.Crop)"
   ]
  },
  {
   "cell_type": "code",
   "execution_count": 180,
   "metadata": {
    "ExecuteTime": {
     "end_time": "2020-05-08T17:18:46.313403Z",
     "start_time": "2020-05-08T17:18:46.304082Z"
    }
   },
   "outputs": [],
   "source": [
    "mappings = pd.DataFrame()\n",
    "mappings['crop'] = crop_names\n",
    "mappings['value'] = l.transform(crop_names)"
   ]
  },
  {
   "cell_type": "code",
   "execution_count": 181,
   "metadata": {
    "ExecuteTime": {
     "end_time": "2020-05-08T17:18:54.416307Z",
     "start_time": "2020-05-08T17:18:54.384801Z"
    }
   },
   "outputs": [
    {
     "data": {
      "text/html": [
       "<div>\n",
       "<style scoped>\n",
       "    .dataframe tbody tr th:only-of-type {\n",
       "        vertical-align: middle;\n",
       "    }\n",
       "\n",
       "    .dataframe tbody tr th {\n",
       "        vertical-align: top;\n",
       "    }\n",
       "\n",
       "    .dataframe thead th {\n",
       "        text-align: right;\n",
       "    }\n",
       "</style>\n",
       "<table border=\"1\" class=\"dataframe\">\n",
       "  <thead>\n",
       "    <tr style=\"text-align: right;\">\n",
       "      <th></th>\n",
       "      <th>crop</th>\n",
       "      <th>value</th>\n",
       "    </tr>\n",
       "  </thead>\n",
       "  <tbody>\n",
       "    <tr>\n",
       "      <th>0</th>\n",
       "      <td>Bajra</td>\n",
       "      <td>0</td>\n",
       "    </tr>\n",
       "    <tr>\n",
       "      <th>1</th>\n",
       "      <td>Banana</td>\n",
       "      <td>1</td>\n",
       "    </tr>\n",
       "    <tr>\n",
       "      <th>2</th>\n",
       "      <td>Barley</td>\n",
       "      <td>2</td>\n",
       "    </tr>\n",
       "    <tr>\n",
       "      <th>3</th>\n",
       "      <td>Bean</td>\n",
       "      <td>3</td>\n",
       "    </tr>\n",
       "    <tr>\n",
       "      <th>4</th>\n",
       "      <td>Black pepper</td>\n",
       "      <td>4</td>\n",
       "    </tr>\n",
       "    <tr>\n",
       "      <th>5</th>\n",
       "      <td>Blackgram</td>\n",
       "      <td>5</td>\n",
       "    </tr>\n",
       "    <tr>\n",
       "      <th>6</th>\n",
       "      <td>Bottle Gourd</td>\n",
       "      <td>6</td>\n",
       "    </tr>\n",
       "    <tr>\n",
       "      <th>7</th>\n",
       "      <td>Brinjal</td>\n",
       "      <td>7</td>\n",
       "    </tr>\n",
       "    <tr>\n",
       "      <th>8</th>\n",
       "      <td>Cabbage</td>\n",
       "      <td>8</td>\n",
       "    </tr>\n",
       "    <tr>\n",
       "      <th>9</th>\n",
       "      <td>Cardamom</td>\n",
       "      <td>9</td>\n",
       "    </tr>\n",
       "    <tr>\n",
       "      <th>10</th>\n",
       "      <td>Carrot</td>\n",
       "      <td>10</td>\n",
       "    </tr>\n",
       "    <tr>\n",
       "      <th>11</th>\n",
       "      <td>Castor seed</td>\n",
       "      <td>11</td>\n",
       "    </tr>\n",
       "    <tr>\n",
       "      <th>12</th>\n",
       "      <td>Cauliflower</td>\n",
       "      <td>12</td>\n",
       "    </tr>\n",
       "    <tr>\n",
       "      <th>13</th>\n",
       "      <td>Chillies</td>\n",
       "      <td>13</td>\n",
       "    </tr>\n",
       "    <tr>\n",
       "      <th>14</th>\n",
       "      <td>Colocosia</td>\n",
       "      <td>14</td>\n",
       "    </tr>\n",
       "    <tr>\n",
       "      <th>15</th>\n",
       "      <td>Coriander</td>\n",
       "      <td>15</td>\n",
       "    </tr>\n",
       "    <tr>\n",
       "      <th>16</th>\n",
       "      <td>Cotton</td>\n",
       "      <td>16</td>\n",
       "    </tr>\n",
       "    <tr>\n",
       "      <th>17</th>\n",
       "      <td>Cowpea</td>\n",
       "      <td>17</td>\n",
       "    </tr>\n",
       "    <tr>\n",
       "      <th>18</th>\n",
       "      <td>Drum Stick</td>\n",
       "      <td>18</td>\n",
       "    </tr>\n",
       "    <tr>\n",
       "      <th>19</th>\n",
       "      <td>Garlic</td>\n",
       "      <td>19</td>\n",
       "    </tr>\n",
       "    <tr>\n",
       "      <th>20</th>\n",
       "      <td>Ginger</td>\n",
       "      <td>20</td>\n",
       "    </tr>\n",
       "    <tr>\n",
       "      <th>21</th>\n",
       "      <td>Gram</td>\n",
       "      <td>21</td>\n",
       "    </tr>\n",
       "    <tr>\n",
       "      <th>22</th>\n",
       "      <td>Grapes</td>\n",
       "      <td>22</td>\n",
       "    </tr>\n",
       "    <tr>\n",
       "      <th>23</th>\n",
       "      <td>Groundnut</td>\n",
       "      <td>23</td>\n",
       "    </tr>\n",
       "    <tr>\n",
       "      <th>24</th>\n",
       "      <td>Guar seed</td>\n",
       "      <td>24</td>\n",
       "    </tr>\n",
       "    <tr>\n",
       "      <th>25</th>\n",
       "      <td>Horse-gram</td>\n",
       "      <td>25</td>\n",
       "    </tr>\n",
       "    <tr>\n",
       "      <th>26</th>\n",
       "      <td>Jowar</td>\n",
       "      <td>26</td>\n",
       "    </tr>\n",
       "    <tr>\n",
       "      <th>27</th>\n",
       "      <td>Jute</td>\n",
       "      <td>27</td>\n",
       "    </tr>\n",
       "    <tr>\n",
       "      <th>28</th>\n",
       "      <td>Khesari</td>\n",
       "      <td>28</td>\n",
       "    </tr>\n",
       "    <tr>\n",
       "      <th>29</th>\n",
       "      <td>Lady Finger</td>\n",
       "      <td>29</td>\n",
       "    </tr>\n",
       "    <tr>\n",
       "      <th>30</th>\n",
       "      <td>Lentil</td>\n",
       "      <td>30</td>\n",
       "    </tr>\n",
       "    <tr>\n",
       "      <th>31</th>\n",
       "      <td>Linseed</td>\n",
       "      <td>31</td>\n",
       "    </tr>\n",
       "    <tr>\n",
       "      <th>32</th>\n",
       "      <td>Maize</td>\n",
       "      <td>32</td>\n",
       "    </tr>\n",
       "    <tr>\n",
       "      <th>33</th>\n",
       "      <td>Mesta</td>\n",
       "      <td>33</td>\n",
       "    </tr>\n",
       "    <tr>\n",
       "      <th>34</th>\n",
       "      <td>Moong(Green Gram)</td>\n",
       "      <td>34</td>\n",
       "    </tr>\n",
       "    <tr>\n",
       "      <th>35</th>\n",
       "      <td>Moth</td>\n",
       "      <td>35</td>\n",
       "    </tr>\n",
       "    <tr>\n",
       "      <th>36</th>\n",
       "      <td>Onion</td>\n",
       "      <td>36</td>\n",
       "    </tr>\n",
       "    <tr>\n",
       "      <th>37</th>\n",
       "      <td>Orange</td>\n",
       "      <td>37</td>\n",
       "    </tr>\n",
       "    <tr>\n",
       "      <th>38</th>\n",
       "      <td>Papaya</td>\n",
       "      <td>38</td>\n",
       "    </tr>\n",
       "    <tr>\n",
       "      <th>39</th>\n",
       "      <td>Peas &amp; beans (Pulses)</td>\n",
       "      <td>39</td>\n",
       "    </tr>\n",
       "    <tr>\n",
       "      <th>40</th>\n",
       "      <td>Pineapple</td>\n",
       "      <td>40</td>\n",
       "    </tr>\n",
       "    <tr>\n",
       "      <th>41</th>\n",
       "      <td>Potato</td>\n",
       "      <td>41</td>\n",
       "    </tr>\n",
       "    <tr>\n",
       "      <th>42</th>\n",
       "      <td>Raddish</td>\n",
       "      <td>42</td>\n",
       "    </tr>\n",
       "    <tr>\n",
       "      <th>43</th>\n",
       "      <td>Ragi</td>\n",
       "      <td>43</td>\n",
       "    </tr>\n",
       "    <tr>\n",
       "      <th>44</th>\n",
       "      <td>Rice</td>\n",
       "      <td>44</td>\n",
       "    </tr>\n",
       "    <tr>\n",
       "      <th>45</th>\n",
       "      <td>Safflower</td>\n",
       "      <td>45</td>\n",
       "    </tr>\n",
       "    <tr>\n",
       "      <th>46</th>\n",
       "      <td>Sannhamp</td>\n",
       "      <td>46</td>\n",
       "    </tr>\n",
       "    <tr>\n",
       "      <th>47</th>\n",
       "      <td>Sesamum</td>\n",
       "      <td>47</td>\n",
       "    </tr>\n",
       "    <tr>\n",
       "      <th>48</th>\n",
       "      <td>Soyabean</td>\n",
       "      <td>48</td>\n",
       "    </tr>\n",
       "    <tr>\n",
       "      <th>49</th>\n",
       "      <td>Sugarcane</td>\n",
       "      <td>49</td>\n",
       "    </tr>\n",
       "    <tr>\n",
       "      <th>50</th>\n",
       "      <td>Sunflower</td>\n",
       "      <td>50</td>\n",
       "    </tr>\n",
       "    <tr>\n",
       "      <th>51</th>\n",
       "      <td>Sweet potato</td>\n",
       "      <td>51</td>\n",
       "    </tr>\n",
       "    <tr>\n",
       "      <th>52</th>\n",
       "      <td>Tapioca</td>\n",
       "      <td>52</td>\n",
       "    </tr>\n",
       "    <tr>\n",
       "      <th>53</th>\n",
       "      <td>Tomato</td>\n",
       "      <td>53</td>\n",
       "    </tr>\n",
       "    <tr>\n",
       "      <th>54</th>\n",
       "      <td>Turmeric</td>\n",
       "      <td>54</td>\n",
       "    </tr>\n",
       "    <tr>\n",
       "      <th>55</th>\n",
       "      <td>Urad</td>\n",
       "      <td>55</td>\n",
       "    </tr>\n",
       "    <tr>\n",
       "      <th>56</th>\n",
       "      <td>Varagu</td>\n",
       "      <td>56</td>\n",
       "    </tr>\n",
       "    <tr>\n",
       "      <th>57</th>\n",
       "      <td>Wheat</td>\n",
       "      <td>57</td>\n",
       "    </tr>\n",
       "  </tbody>\n",
       "</table>\n",
       "</div>"
      ],
      "text/plain": [
       "                     crop  value\n",
       "0                   Bajra      0\n",
       "1                  Banana      1\n",
       "2                  Barley      2\n",
       "3                    Bean      3\n",
       "4            Black pepper      4\n",
       "5               Blackgram      5\n",
       "6            Bottle Gourd      6\n",
       "7                 Brinjal      7\n",
       "8                 Cabbage      8\n",
       "9                Cardamom      9\n",
       "10                 Carrot     10\n",
       "11            Castor seed     11\n",
       "12            Cauliflower     12\n",
       "13               Chillies     13\n",
       "14              Colocosia     14\n",
       "15              Coriander     15\n",
       "16                 Cotton     16\n",
       "17                 Cowpea     17\n",
       "18             Drum Stick     18\n",
       "19                 Garlic     19\n",
       "20                 Ginger     20\n",
       "21                   Gram     21\n",
       "22                 Grapes     22\n",
       "23              Groundnut     23\n",
       "24              Guar seed     24\n",
       "25             Horse-gram     25\n",
       "26                  Jowar     26\n",
       "27                   Jute     27\n",
       "28                Khesari     28\n",
       "29            Lady Finger     29\n",
       "30                 Lentil     30\n",
       "31                Linseed     31\n",
       "32                  Maize     32\n",
       "33                  Mesta     33\n",
       "34      Moong(Green Gram)     34\n",
       "35                   Moth     35\n",
       "36                  Onion     36\n",
       "37                 Orange     37\n",
       "38                 Papaya     38\n",
       "39  Peas & beans (Pulses)     39\n",
       "40              Pineapple     40\n",
       "41                 Potato     41\n",
       "42                Raddish     42\n",
       "43                   Ragi     43\n",
       "44                   Rice     44\n",
       "45              Safflower     45\n",
       "46               Sannhamp     46\n",
       "47                Sesamum     47\n",
       "48               Soyabean     48\n",
       "49              Sugarcane     49\n",
       "50              Sunflower     50\n",
       "51           Sweet potato     51\n",
       "52                Tapioca     52\n",
       "53                 Tomato     53\n",
       "54               Turmeric     54\n",
       "55                   Urad     55\n",
       "56                 Varagu     56\n",
       "57                  Wheat     57"
      ]
     },
     "execution_count": 181,
     "metadata": {},
     "output_type": "execute_result"
    }
   ],
   "source": [
    "mappings"
   ]
  },
  {
   "cell_type": "code",
   "execution_count": 182,
   "metadata": {
    "ExecuteTime": {
     "end_time": "2020-05-08T17:20:04.280054Z",
     "start_time": "2020-05-08T17:19:24.656950Z"
    }
   },
   "outputs": [
    {
     "data": {
      "text/plain": [
       "RandomForestRegressor(bootstrap=True, ccp_alpha=0.0, criterion='mse',\n",
       "                      max_depth=None, max_features='auto', max_leaf_nodes=None,\n",
       "                      max_samples=None, min_impurity_decrease=0.0,\n",
       "                      min_impurity_split=None, min_samples_leaf=1,\n",
       "                      min_samples_split=2, min_weight_fraction_leaf=0.0,\n",
       "                      n_estimators=100, n_jobs=None, oob_score=False,\n",
       "                      random_state=None, verbose=0, warm_start=False)"
      ]
     },
     "execution_count": 182,
     "metadata": {},
     "output_type": "execute_result"
    }
   ],
   "source": [
    "rg = RandomForestRegressor()\n",
    "rg.fit(x,y)"
   ]
  },
  {
   "cell_type": "code",
   "execution_count": 202,
   "metadata": {
    "ExecuteTime": {
     "end_time": "2020-05-08T17:30:45.969076Z",
     "start_time": "2020-05-08T17:30:45.912571Z"
    }
   },
   "outputs": [
    {
     "name": "stdout",
     "output_type": "stream",
     "text": [
      "For the state West Bengal and city Kolkata  the following are crop recommendations and thier production rate :\n",
      "\n",
      "\n",
      "Crop : Bean \t\t Predicted production_rate : [2.34981098]\n",
      "Crop : Guar seed \t\t Predicted production_rate : [0.8542529]\n",
      "Crop : Jute \t\t Predicted production_rate : [0.47918613]\n"
     ]
    }
   ],
   "source": [
    "temp =[]\n",
    "y_pred=0\n",
    "print(\"For the state {0} and city {1} the following are crop recommendations and thier production rate :\\n\\n\".format(state_name,city_name))\n",
    "for i in range(len(crop_recommendations1)):\n",
    "    temp=[]\n",
    "    y_pred=0\n",
    "    temp.append(avg_temp)\n",
    "    temp.append(ph_value)\n",
    "    temp.append(l.transform([crop_recommendations1[i]])[0])\n",
    "    y_pred = rg.predict(np.array(temp).reshape(1,-1))\n",
    "    print(\"Crop : {0} \\t\\t Predicted production_rate : {1}\".format(crop_recommendations1[i],y_pred))"
   ]
  },
  {
   "cell_type": "code",
   "execution_count": 203,
   "metadata": {
    "ExecuteTime": {
     "end_time": "2020-05-08T17:31:20.094825Z",
     "start_time": "2020-05-08T17:31:20.018140Z"
    }
   },
   "outputs": [
    {
     "name": "stdout",
     "output_type": "stream",
     "text": [
      "For the state West Bengal and city Kolkata  the following are crop recommendations and thier production rate :\n",
      "\n",
      "\n",
      "Crop : Carrot \t\t Predicted production_rate : [12.94000347]\n",
      "Crop : Cauliflower \t\t Predicted production_rate : [0.5]\n",
      "Crop : Mesta \t\t Predicted production_rate : [6.79374455]\n",
      "Crop : Soyabean \t\t Predicted production_rate : [0.20297881]\n"
     ]
    }
   ],
   "source": [
    "temp =[]\n",
    "y_pred=0\n",
    "print(\"For the state {0} and city {1} the following are crop recommendations and thier production rate :\\n\\n\".format(state_name,city_name))\n",
    "for i in range(len(crop_recommendations2)):\n",
    "    temp=[]\n",
    "    y_pred=0\n",
    "    temp.append(avg_temp)\n",
    "    temp.append(ph_value)\n",
    "    temp.append(l.transform([crop_recommendations2[i]])[0])\n",
    "    y_pred = rg.predict(np.array(temp).reshape(1,-1))\n",
    "    print(\"Crop : {0} \\t\\t Predicted production_rate : {1}\".format(crop_recommendations2[i],y_pred))"
   ]
  }
 ],
 "metadata": {
  "kernelspec": {
   "display_name": "Python 3.6.10 64-bit ('karthik': conda)",
   "language": "python",
   "name": "python361064bitkarthikcondad07a6e6b3a5441b8956f8ba76ecea8fe"
  },
  "language_info": {
   "codemirror_mode": {
    "name": "ipython",
    "version": 3
   },
   "file_extension": ".py",
   "mimetype": "text/x-python",
   "name": "python",
   "nbconvert_exporter": "python",
   "pygments_lexer": "ipython3",
   "version": "3.6.10"
  }
 },
 "nbformat": 4,
 "nbformat_minor": 4
}
